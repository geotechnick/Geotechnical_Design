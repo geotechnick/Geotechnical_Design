{
 "cells": [
  {
   "cell_type": "markdown",
   "metadata": {},
   "source": [
    "## Analysis Summary"
   ]
  },
  {
   "cell_type": "code",
   "execution_count": 44,
   "metadata": {},
   "outputs": [
    {
     "name": "stdout",
     "output_type": "stream",
     "text": [
      "Maximum scour depth: 10.6 ft\n",
      "Radius of protection around pier: 24 ft\n",
      "Minimum D50 of rip rap: 3.3 ft\n"
     ]
    }
   ],
   "source": [
    "print(f\"Maximum scour depth: {round(ys,1)} ft\")\n",
    "print(f\"Radius of protection around pier: {8*a} ft\")\n",
    "print(f\"Minimum D50 of rip rap: {round(D50,1)} ft\")"
   ]
  },
  {
   "cell_type": "markdown",
   "metadata": {},
   "source": [
    "### Determine Scour Depth\n",
    "<table><tr>\n",
    "<td> <img src=\"HEC18.PNG\" width=\"320\" height=\"320\"> </td> \n",
    "<td> <img src=\"HEC18_2.PNG\" width=\"320\" height=\"320\"> </td>  \n",
    "<td> <img src=\"HEC18_3.PNG\" width=\"320\" height=\"320\"> </td> \n",
    "</tr></table>"
   ]
  },
  {
   "cell_type": "markdown",
   "metadata": {},
   "source": [
    "### Define Variables"
   ]
  },
  {
   "cell_type": "code",
   "execution_count": 40,
   "metadata": {},
   "outputs": [],
   "source": [
    "y1 = 26.5\n",
    "K1 = 1.0\n",
    "K2 = 1 # assuming length of pier is depth of water and no angle of attack for circle\n",
    "K3 = 1.1\n",
    "a = 3\n",
    "V1 = 15.07\n",
    "g = 32.2\n",
    "Fr1 = V1/(g*y1)**(1/2)"
   ]
  },
  {
   "cell_type": "markdown",
   "metadata": {},
   "source": [
    "### Calculate Scour Depth"
   ]
  },
  {
   "cell_type": "code",
   "execution_count": 41,
   "metadata": {},
   "outputs": [
    {
     "name": "stdout",
     "output_type": "stream",
     "text": [
      "depth of scour is equal to 10.6 ft\n"
     ]
    }
   ],
   "source": [
    "ys = (2.0*K1*K2*K3*(a/y1)**0.65*Fr1**0.43)*y1\n",
    "print(f\"depth of scour is equal to {round(ys,1)} ft\")"
   ]
  },
  {
   "cell_type": "markdown",
   "metadata": {},
   "source": [
    "### Rip Rap Sizing at Pier\n",
    "<table><tr>\n",
    "<td> <img src=\"HEC23.PNG\" width=\"400\" height=\"400\"> </td> \n",
    "<td> <img src=\"velocity_at_pier.PNG\" width=\"400\" height=\"400\"> </td>  \n",
    "</tr></table>"
   ]
  },
  {
   "cell_type": "markdown",
   "metadata": {},
   "source": [
    "### Define Variables"
   ]
  },
  {
   "cell_type": "code",
   "execution_count": 42,
   "metadata": {},
   "outputs": [],
   "source": [
    "K = 1.5 \n",
    "Ss = 2.65\n",
    "V = 15.07\n",
    "g = 32.2"
   ]
  },
  {
   "cell_type": "markdown",
   "metadata": {},
   "source": [
    "### Perform Calculation"
   ]
  },
  {
   "cell_type": "code",
   "execution_count": 43,
   "metadata": {},
   "outputs": [
    {
     "name": "stdout",
     "output_type": "stream",
     "text": [
      "Required rip rap D50: 3.3 ft\n"
     ]
    }
   ],
   "source": [
    "D50 = (0.692*(K*V)**2)/(2*g*(Ss-1))\n",
    "print(f\"Required rip rap D50: {round(D50,1)} ft\")"
   ]
  },
  {
   "cell_type": "markdown",
   "metadata": {},
   "source": []
  }
 ],
 "metadata": {
  "kernelspec": {
   "display_name": "base",
   "language": "python",
   "name": "python3"
  },
  "language_info": {
   "codemirror_mode": {
    "name": "ipython",
    "version": 3
   },
   "file_extension": ".py",
   "mimetype": "text/x-python",
   "name": "python",
   "nbconvert_exporter": "python",
   "pygments_lexer": "ipython3",
   "version": "3.11.4"
  }
 },
 "nbformat": 4,
 "nbformat_minor": 2
}
