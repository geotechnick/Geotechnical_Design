{
 "cells": [
  {
   "cell_type": "code",
   "execution_count": 2,
   "metadata": {},
   "outputs": [],
   "source": [
    "import dash\n",
    "from dash import dcc, html, Input, Output, State\n",
    "from dash.dependencies import Input, Output\n",
    "import pandas as pd\n",
    "from dash.exceptions import PreventUpdate\n",
    "import base64\n",
    "import io\n",
    "import json"
   ]
  },
  {
   "cell_type": "code",
   "execution_count": 5,
   "metadata": {},
   "outputs": [
    {
     "data": {
      "text/html": [
       "\n",
       "        <iframe\n",
       "            width=\"100%\"\n",
       "            height=\"650\"\n",
       "            src=\"http://127.0.0.1:8050/\"\n",
       "            frameborder=\"0\"\n",
       "            allowfullscreen\n",
       "            \n",
       "        ></iframe>\n",
       "        "
      ],
      "text/plain": [
       "<IPython.lib.display.IFrame at 0x234dc83cb80>"
      ]
     },
     "metadata": {},
     "output_type": "display_data"
    }
   ],
   "source": [
    "# Load CSV with all the H-Pile info\n",
    "H_Pile = pd.read_csv(\"https://raw.githubusercontent.com/geotechnick/Geotechnical_Design/main/Pile_Design/H_Piles/HP_Spec_Table.csv\")\n",
    "Fy = 50  # Pile yield stress in ksi\n",
    "pile_names = H_Pile['Section_E'].unique().tolist()\n",
    "\n",
    "# Filter out the metric values\n",
    "H_Pile = H_Pile.loc[:, ~H_Pile.columns.str.endswith('_M')]\n",
    "\n",
    "# Create drop down with the pile names\n",
    "dropdown = dcc.Dropdown(id='pile-dropdown', options=[{'label': name, 'value': name} for name in pile_names], value=pile_names[0])\n",
    "\n",
    "# Define app layout\n",
    "app = dash.Dash(__name__)\n",
    "\n",
    "app.layout = html.Div([\n",
    "    html.H1(\"H-Pile Info\"),\n",
    "    dropdown,\n",
    "    html.Div(id='pile-info')\n",
    "])\n",
    "\n",
    "# Define callback to update the displayed row\n",
    "@app.callback(\n",
    "    Output('pile-info', 'children'),\n",
    "    [Input('pile-dropdown', 'value')]\n",
    ")\n",
    "def display_row(selected_value):\n",
    "    if selected_value is None:\n",
    "        return html.Div(\"No pile selected\")\n",
    "    \n",
    "    pile_info = H_Pile[H_Pile['Section_E'] == selected_value]  # Creates dataframe that only has the selected value in it\n",
    "    pile_units = H_Pile[H_Pile['Section_E'] == 'Units_English']  # Create separate dataframe that has units\n",
    "    pile_display = pd.concat([pile_info, pile_units], ignore_index=True)  # Combine pile properties and pile units into single dataframe\n",
    "    \n",
    "    # Adds case_1 to the data frame\n",
    "    # Get the current index label of the first row\n",
    "    old_index_label = pile_info.index[0]\n",
    "\n",
    "    # Define the new label for the first row\n",
    "    new_index_label = 'case_1'\n",
    "\n",
    "    # Rename the first row\n",
    "    pile_info = pile_info.rename(index={old_index_label: new_index_label})\n",
    "\n",
    "    # Now the first row is renamed and shifted\n",
    "    pile_info.reset_index(inplace=True)\n",
    "\n",
    "    return html.Table([html.Tr([html.Th(col), html.Td(pile_display[col].values[0])]) for col in pile_display.columns])\n",
    "\n",
    "if __name__ == '__main__':\n",
    "    app.run_server(debug=True)"
   ]
  },
  {
   "cell_type": "code",
   "execution_count": 4,
   "metadata": {},
   "outputs": [
    {
     "data": {
      "text/html": [
       "\n",
       "        <iframe\n",
       "            width=\"100%\"\n",
       "            height=\"650\"\n",
       "            src=\"http://127.0.0.1:8050/\"\n",
       "            frameborder=\"0\"\n",
       "            allowfullscreen\n",
       "            \n",
       "        ></iframe>\n",
       "        "
      ],
      "text/plain": [
       "<IPython.lib.display.IFrame at 0x234dc7aa0e0>"
      ]
     },
     "metadata": {},
     "output_type": "display_data"
    }
   ],
   "source": [
    "# Define app layout\n",
    "app = dash.Dash(__name__)\n",
    "\n",
    "app.layout = html.Div([\n",
    "    html.H1(\"File Upload\"),\n",
    "    dcc.Upload(\n",
    "        id='upload-data',\n",
    "        children=html.Div([\n",
    "            'Drag and Drop or ',\n",
    "            html.A('Select Files')\n",
    "        ]),\n",
    "        style={\n",
    "            'width': '100%',\n",
    "            'height': '60px',\n",
    "            'lineHeight': '60px',\n",
    "            'borderWidth': '1px',\n",
    "            'borderStyle': 'dashed',\n",
    "            'borderRadius': '5px',\n",
    "            'textAlign': 'center',\n",
    "            'margin': '10px'\n",
    "        },\n",
    "        # Allow multiple files to be uploaded\n",
    "        multiple=True\n",
    "    ),\n",
    "    html.Div(id='output-data-upload')\n",
    "])\n",
    "\n",
    "# Function to handle file upload\n",
    "def parse_contents(contents, filename):\n",
    "    content_type, content_string = contents.split(',')\n",
    "\n",
    "    decoded = base64.b64decode(content_string)\n",
    "    \n",
    "    try:\n",
    "        if 'csv' in filename:\n",
    "            # Assume the uploaded file is a CSV file\n",
    "            df = pd.read_csv(io.StringIO(decoded.decode('utf-8')))\n",
    "        elif 'xls' in filename:\n",
    "            # Assume the uploaded file is a Excel file\n",
    "            df = pd.read_excel(io.BytesIO(decoded))\n",
    "    except Exception as e:\n",
    "        print(e)\n",
    "        return html.Div([\n",
    "            'There was an error processing this file.'\n",
    "        ])\n",
    "\n",
    "    return html.Div([\n",
    "        html.H5(filename),\n",
    "        html.Hr(),  # horizontal line\n",
    "        # Display the first 10 rows of the uploaded file\n",
    "        html.Div(df.head(10))\n",
    "    ])\n",
    "\n",
    "# Callback to update output based on file upload\n",
    "@app.callback(Output('output-data-upload', 'children'),\n",
    "              [Input('upload-data', 'contents')],\n",
    "              [State('upload-data', 'filename')])\n",
    "def update_output(list_of_contents, list_of_names):\n",
    "    if list_of_contents is None or list_of_names is None:\n",
    "        raise PreventUpdate\n",
    "    \n",
    "    children = [\n",
    "        parse_contents(c, n) for c, n in\n",
    "        zip(list_of_contents, list_of_names)]\n",
    "    return children\n",
    "\n",
    "if __name__ == '__main__':\n",
    "    app.run_server(debug=True)"
   ]
  },
  {
   "cell_type": "code",
   "execution_count": null,
   "metadata": {},
   "outputs": [],
   "source": []
  }
 ],
 "metadata": {
  "kernelspec": {
   "display_name": "Python 3",
   "language": "python",
   "name": "python3"
  },
  "language_info": {
   "codemirror_mode": {
    "name": "ipython",
    "version": 3
   },
   "file_extension": ".py",
   "mimetype": "text/x-python",
   "name": "python",
   "nbconvert_exporter": "python",
   "pygments_lexer": "ipython3",
   "version": "3.10.0"
  }
 },
 "nbformat": 4,
 "nbformat_minor": 2
}
