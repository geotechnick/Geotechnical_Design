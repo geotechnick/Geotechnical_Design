{
 "cells": [
  {
   "cell_type": "code",
   "execution_count": null,
   "metadata": {},
   "outputs": [],
   "source": [
    "import base64\n",
    "import pandas as pd\n",
    "import io\n",
    "import dash\n",
    "from dash import dcc, html, Input, Output\n",
    "import plotly.graph_objs as go\n",
    "from dash.dependencies import State"
   ]
  },
  {
   "cell_type": "code",
   "execution_count": 1,
   "metadata": {},
   "outputs": [
    {
     "name": "stderr",
     "output_type": "stream",
     "text": [
      "c:\\Users\\hosti\\Documents\\GitHub\\Geotechnical_Design\\Pile_Design\\H_Piles\\pile_module.py:5: UserWarning: \n",
      "The dash_core_components package is deprecated. Please replace\n",
      "`import dash_core_components as dcc` with `from dash import dcc`\n",
      "  import dash_core_components as dcc\n",
      "c:\\Users\\hosti\\Documents\\GitHub\\Geotechnical_Design\\Pile_Design\\H_Piles\\pile_module.py:6: UserWarning: \n",
      "The dash_html_components package is deprecated. Please replace\n",
      "`import dash_html_components as html` with `from dash import html`\n",
      "  import dash_html_components as html\n"
     ]
    },
    {
     "data": {
      "text/html": [
       "\n",
       "        <iframe\n",
       "            width=\"100%\"\n",
       "            height=\"650\"\n",
       "            src=\"http://127.0.0.1:8050/\"\n",
       "            frameborder=\"0\"\n",
       "            allowfullscreen\n",
       "            \n",
       "        ></iframe>\n",
       "        "
      ],
      "text/plain": [
       "<IPython.lib.display.IFrame at 0x1cecefbf4c0>"
      ]
     },
     "metadata": {},
     "output_type": "display_data"
    }
   ],
   "source": [
    "import dash\n",
    "from dash import html, dcc, callback_context\n",
    "from dash.dependencies import Input, Output, State\n",
    "import plotly.graph_objects as go\n",
    "import pandas as pd\n",
    "import base64\n",
    "import io\n",
    "import pile_module #custom module\n",
    "\n",
    "# Load CSV with all the H-Pile info\n",
    "H_Pile = pd.read_csv(\"https://raw.githubusercontent.com/geotechnick/Geotechnical_Design/main/Pile_Design/H_Piles/HP_Spec_Table.csv\")\n",
    "pile_names = H_Pile['Section_E'].unique().tolist()\n",
    "\n",
    "# Filter out the metric values\n",
    "H_Pile = H_Pile.loc[:, ~H_Pile.columns.str.endswith('_M')]\n",
    "\n",
    "# Create drop down with the pile names\n",
    "dropdown = dcc.Dropdown(id='pile-dropdown', options=[{'label': name, 'value': name} for name in pile_names], value=pile_names[0])\n",
    "\n",
    "# Define app layout\n",
    "app = dash.Dash(__name__)\n",
    "\n",
    "app.layout = html.Div([\n",
    "    html.H1(\"Pile Information\"),\n",
    "    dropdown,\n",
    "    html.Div(id='pile-info'),\n",
    "\n",
    "    html.H1(\"File Upload\"),\n",
    "    dcc.Upload(\n",
    "        id='upload-data',\n",
    "        children=html.Div([\n",
    "            'Drag and Drop or ',\n",
    "            html.A('Select Files')\n",
    "        ]),\n",
    "        style={\n",
    "            'width': '100%',\n",
    "            'height': '60px',\n",
    "            'lineHeight': '60px',\n",
    "            'borderWidth': '1px',\n",
    "            'borderStyle': 'dashed',\n",
    "            'borderRadius': '5px',\n",
    "            'textAlign': 'center',\n",
    "            'margin': '10px'\n",
    "        },\n",
    "        multiple=False\n",
    "    ),\n",
    "    html.Div(id='output-data-upload'),\n",
    "\n",
    "    html.H1(\"Pile Axial Information\"),\n",
    "    \n",
    "    html.Label(\"Ground Surface:\"),\n",
    "    dcc.Input(id=\"ground-surface\", type=\"text\", value=\"\"),\n",
    "    \n",
    "    html.Label(\"Top Pile:\"),\n",
    "    dcc.Input(id=\"top-pile\", type=\"text\", value=\"\"),\n",
    "    \n",
    "    html.Label(\"Pile Length:\"),\n",
    "    dcc.Input(id=\"pile-length\", type=\"number\", value=0),\n",
    "    \n",
    "    html.Label(\"Predrill Depth:\"),\n",
    "    dcc.Input(id=\"predrill-depth\", type=\"number\", value=0),\n",
    "    \n",
    "    html.Label(\"Steel Strength:\"),\n",
    "    dcc.Input(id=\"steel-strength\", type=\"number\", value=0),\n",
    "    \n",
    "    html.Button('Submit', id='submit-val', n_clicks=0),\n",
    "    \n",
    "    html.Div(id='output-data-submit'),\n",
    "])\n",
    "\n",
    "# Callback to display pile info\n",
    "@app.callback(\n",
    "    Output('pile-info', 'children'),\n",
    "    [Input('pile-dropdown', 'value')]\n",
    ")\n",
    "def display_pile_info(selected_value):\n",
    "    return pile_module.display_row(selected_value, H_Pile)\n",
    "\n",
    "# Callback to handle file upload\n",
    "@app.callback(Output('output-data-upload', 'children'),\n",
    "              [Input('upload-data', 'contents')],\n",
    "              [State('upload-data', 'filename')])\n",
    "def update_output(contents, filename):\n",
    "    return pile_module.update_output(contents, filename)\n",
    "\n",
    "# Callback to handle submission and create DataFrame\n",
    "@app.callback(\n",
    "    Output('output-data-submit', 'children'),\n",
    "    [Input('submit-val', 'n_clicks')],\n",
    "    [Input('ground-surface', 'value'),\n",
    "     Input('top-pile', 'value'),\n",
    "     Input('pile-length', 'value'),\n",
    "     Input('predrill-depth', 'value'),\n",
    "     Input('steel-strength', 'value')]\n",
    ")\n",
    "def create_dataframe(n_clicks, ground_surface, top_pile, pile_length, predrill_depth, steel_strength):\n",
    "    return pile_module.create_dataframe(n_clicks, ground_surface, top_pile, pile_length, predrill_depth, steel_strength)\n",
    "\n",
    "#test code########################\n",
    "\n",
    "if __name__ == '__main__':\n",
    "    app.run_server(debug=True)"
   ]
  },
  {
   "cell_type": "code",
   "execution_count": 2,
   "metadata": {},
   "outputs": [
    {
     "ename": "NameError",
     "evalue": "name 'Pile_Info' is not defined",
     "output_type": "error",
     "traceback": [
      "\u001b[1;31m---------------------------------------------------------------------------\u001b[0m",
      "\u001b[1;31mNameError\u001b[0m                                 Traceback (most recent call last)",
      "Cell \u001b[1;32mIn[2], line 1\u001b[0m\n\u001b[1;32m----> 1\u001b[0m \u001b[43mPile_Info\u001b[49m\n",
      "\u001b[1;31mNameError\u001b[0m: name 'Pile_Info' is not defined"
     ]
    }
   ],
   "source": [
    "Pile_Info\n"
   ]
  },
  {
   "cell_type": "code",
   "execution_count": 3,
   "metadata": {},
   "outputs": [
    {
     "ename": "NameError",
     "evalue": "name 'Layer_Properties' is not defined",
     "output_type": "error",
     "traceback": [
      "\u001b[1;31m---------------------------------------------------------------------------\u001b[0m",
      "\u001b[1;31mNameError\u001b[0m                                 Traceback (most recent call last)",
      "Cell \u001b[1;32mIn[3], line 1\u001b[0m\n\u001b[1;32m----> 1\u001b[0m \u001b[43mLayer_Properties\u001b[49m\n",
      "\u001b[1;31mNameError\u001b[0m: name 'Layer_Properties' is not defined"
     ]
    }
   ],
   "source": [
    "Layer_Properties"
   ]
  },
  {
   "cell_type": "code",
   "execution_count": null,
   "metadata": {},
   "outputs": [],
   "source": [
    "Pile_Axial_Info"
   ]
  }
 ],
 "metadata": {
  "kernelspec": {
   "display_name": "Python 3",
   "language": "python",
   "name": "python3"
  },
  "language_info": {
   "codemirror_mode": {
    "name": "ipython",
    "version": 3
   },
   "file_extension": ".py",
   "mimetype": "text/x-python",
   "name": "python",
   "nbconvert_exporter": "python",
   "pygments_lexer": "ipython3",
   "version": "3.10.0"
  }
 },
 "nbformat": 4,
 "nbformat_minor": 2
}
