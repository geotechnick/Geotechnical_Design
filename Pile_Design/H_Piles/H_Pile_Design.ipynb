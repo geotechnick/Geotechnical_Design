{
 "cells": [
  {
   "cell_type": "markdown",
   "metadata": {},
   "source": [
    "### H-Pile Design \n",
    "#### Per NHI Courses No. 132021 and 132022 \"Design and Construction of Driven Pile Foundations - Volume 1 & 2\"\n",
    "####     \"LRFD Bridge Design Specifications\" 9th Edition 2020 "
   ]
  },
  {
   "cell_type": "code",
   "execution_count": 53,
   "metadata": {},
   "outputs": [],
   "source": [
    "import numpy as np\n",
    "import pandas as pd\n",
    "import ipywidgets as widgets\n",
    "from ipywidgets import Button\n",
    "from IPython.display import display\n",
    "import io\n",
    "import json"
   ]
  },
  {
   "cell_type": "markdown",
   "metadata": {},
   "source": [
    "#### Pile Structural Information"
   ]
  },
  {
   "cell_type": "code",
   "execution_count": 2,
   "metadata": {},
   "outputs": [
    {
     "data": {
      "application/vnd.jupyter.widget-view+json": {
       "model_id": "0d4929a5599f4610ae603e78ec56108e",
       "version_major": 2,
       "version_minor": 0
      },
      "text/plain": [
       "interactive(children=(Dropdown(description='Select Value:', options=('Units_English', 'HP 8x36', 'HP 10x42', '…"
      ]
     },
     "metadata": {},
     "output_type": "display_data"
    },
    {
     "data": {
      "text/plain": [
       "<function __main__.display_row(selected_value)>"
      ]
     },
     "execution_count": 2,
     "metadata": {},
     "output_type": "execute_result"
    }
   ],
   "source": [
    "#load csv with all the H-Pile info\n",
    "H_Pile = pd.read_csv(\"https://raw.githubusercontent.com/geotechnick/Geotechnical_Design/main/Pile_Design/H_Piles/HP_Spec_Table.csv\")\n",
    "Fy = 50 # Pile yield stress in ksi\n",
    "pile_names = H_Pile['Section_E'].unique().tolist()\n",
    "\n",
    "\n",
    "H_Pile = H_Pile.loc[:, ~H_Pile.columns.str.endswith('_M')]\n",
    "\n",
    "dropdown = widgets.Dropdown(options=pile_names, description='Select Value:')\n",
    "\n",
    "# Function to display the selected row\n",
    "def display_row(selected_value):\n",
    "    global design_pile\n",
    "    design_pile = H_Pile[H_Pile['Section_E'] == selected_value]\n",
    "    pile_units = H_Pile[H_Pile['Section_E'] == 'Units_English']\n",
    "    pile_display = pd.concat([design_pile, pile_units], ignore_index=True)\n",
    "    display(pile_display.T)\n",
    "\n",
    "# Connect the dropdown widget to the display function using interact\n",
    "widgets.interact(display_row, selected_value=dropdown)"
   ]
  },
  {
   "cell_type": "markdown",
   "metadata": {},
   "source": [
    "#### Upload Soil Profile"
   ]
  },
  {
   "cell_type": "code",
   "execution_count": 18,
   "metadata": {},
   "outputs": [
    {
     "data": {
      "application/vnd.jupyter.widget-view+json": {
       "model_id": "b9973b3bcef1489bb76077b166c83f49",
       "version_major": 2,
       "version_minor": 0
      },
      "text/plain": [
       "FileUpload(value=(), accept='.csv', description='Upload')"
      ]
     },
     "metadata": {},
     "output_type": "display_data"
    },
    {
     "name": "stdout",
     "output_type": "stream",
     "text": [
      "           layer  lv_top_elev  mlv_top_elev  hv_top_elev  lv_bottom_elev  \\\n",
      "0        Layer I         10.5          10.5         10.5              -1   \n",
      "1  Layer II Clay         -1.0           0.0          1.0              -6   \n",
      "2      Layer III         -6.0          -5.0         -4.0             -32   \n",
      "3  Layer IV Clay        -32.0         -31.0        -30.0             -47   \n",
      "4        Layer V        -47.0         -46.0        -45.0             -59   \n",
      "\n",
      "   mlv_bottom_elev  hv_bottom_elev  lv_top_depth  mlv_top_depth  hv_top_depth  \\\n",
      "0                0               1           NaN            NaN           NaN   \n",
      "1               -5              -4           NaN            NaN           NaN   \n",
      "2              -31             -30           NaN            NaN           NaN   \n",
      "3              -46             -45           NaN            NaN           NaN   \n",
      "4              -58             -57           NaN            NaN           NaN   \n",
      "\n",
      "   ...  lv_residual_coh  mlv_residual_coh  hv_residual_coh  lv_effective_phi  \\\n",
      "0  ...              NaN               NaN              NaN               NaN   \n",
      "1  ...              NaN               NaN              NaN               NaN   \n",
      "2  ...              NaN               NaN              NaN               NaN   \n",
      "3  ...              NaN               NaN              NaN               NaN   \n",
      "4  ...              NaN               NaN              NaN               NaN   \n",
      "\n",
      "   mlv_effective_phi  hv_effective_phi  lv_effective_coh  mlv_effective_coh  \\\n",
      "0                NaN               NaN               NaN                NaN   \n",
      "1                NaN               NaN               NaN                NaN   \n",
      "2                NaN               NaN               NaN                NaN   \n",
      "3                NaN               NaN               NaN                NaN   \n",
      "4                NaN               NaN               NaN                NaN   \n",
      "\n",
      "   hv_effective_coh  Unnamed: 34  \n",
      "0               NaN          NaN  \n",
      "1               NaN          NaN  \n",
      "2               NaN          NaN  \n",
      "3               NaN          NaN  \n",
      "4               NaN          NaN  \n",
      "\n",
      "[5 rows x 35 columns]\n",
      "           layer  lv_top_elev  mlv_top_elev  hv_top_elev  lv_bottom_elev  \\\n",
      "0        Layer I         10.5          10.5         10.5              -1   \n",
      "1  Layer II Clay         -1.0           0.0          1.0              -6   \n",
      "2      Layer III         -6.0          -5.0         -4.0             -32   \n",
      "3  Layer IV Clay        -32.0         -31.0        -30.0             -47   \n",
      "4        Layer V        -47.0         -46.0        -45.0             -59   \n",
      "\n",
      "   mlv_bottom_elev  hv_bottom_elev  lv_top_depth  mlv_top_depth  hv_top_depth  \\\n",
      "0                0               1           NaN            NaN           NaN   \n",
      "1               -5              -4           NaN            NaN           NaN   \n",
      "2              -31             -30           NaN            NaN           NaN   \n",
      "3              -46             -45           NaN            NaN           NaN   \n",
      "4              -58             -57           NaN            NaN           NaN   \n",
      "\n",
      "   ...  lv_residual_coh  mlv_residual_coh  hv_residual_coh  lv_effective_phi  \\\n",
      "0  ...              NaN               NaN              NaN               NaN   \n",
      "1  ...              NaN               NaN              NaN               NaN   \n",
      "2  ...              NaN               NaN              NaN               NaN   \n",
      "3  ...              NaN               NaN              NaN               NaN   \n",
      "4  ...              NaN               NaN              NaN               NaN   \n",
      "\n",
      "   mlv_effective_phi  hv_effective_phi  lv_effective_coh  mlv_effective_coh  \\\n",
      "0                NaN               NaN               NaN                NaN   \n",
      "1                NaN               NaN               NaN                NaN   \n",
      "2                NaN               NaN               NaN                NaN   \n",
      "3                NaN               NaN               NaN                NaN   \n",
      "4                NaN               NaN               NaN                NaN   \n",
      "\n",
      "   hv_effective_coh  Unnamed: 34  \n",
      "0               NaN          NaN  \n",
      "1               NaN          NaN  \n",
      "2               NaN          NaN  \n",
      "3               NaN          NaN  \n",
      "4               NaN          NaN  \n",
      "\n",
      "[5 rows x 35 columns]\n",
      "           layer  lv_top_elev  mlv_top_elev  hv_top_elev  lv_bottom_elev  \\\n",
      "0        Layer I         10.5          10.5         10.5              -1   \n",
      "1  Layer II Clay         -1.0           0.0          1.0              -6   \n",
      "2      Layer III         -6.0          -5.0         -4.0             -32   \n",
      "3  Layer IV Clay        -32.0         -31.0        -30.0             -47   \n",
      "4        Layer V        -47.0         -46.0        -45.0             -59   \n",
      "\n",
      "   mlv_bottom_elev  hv_bottom_elev  lv_top_depth  mlv_top_depth  hv_top_depth  \\\n",
      "0                0               1           NaN            NaN           NaN   \n",
      "1               -5              -4           NaN            NaN           NaN   \n",
      "2              -31             -30           NaN            NaN           NaN   \n",
      "3              -46             -45           NaN            NaN           NaN   \n",
      "4              -58             -57           NaN            NaN           NaN   \n",
      "\n",
      "   ...  lv_residual_coh  mlv_residual_coh  hv_residual_coh  lv_effective_phi  \\\n",
      "0  ...              NaN               NaN              NaN               NaN   \n",
      "1  ...              NaN               NaN              NaN               NaN   \n",
      "2  ...              NaN               NaN              NaN               NaN   \n",
      "3  ...              NaN               NaN              NaN               NaN   \n",
      "4  ...              NaN               NaN              NaN               NaN   \n",
      "\n",
      "   mlv_effective_phi  hv_effective_phi  lv_effective_coh  mlv_effective_coh  \\\n",
      "0                NaN               NaN               NaN                NaN   \n",
      "1                NaN               NaN               NaN                NaN   \n",
      "2                NaN               NaN               NaN                NaN   \n",
      "3                NaN               NaN               NaN                NaN   \n",
      "4                NaN               NaN               NaN                NaN   \n",
      "\n",
      "   hv_effective_coh  Unnamed: 34  \n",
      "0               NaN          NaN  \n",
      "1               NaN          NaN  \n",
      "2               NaN          NaN  \n",
      "3               NaN          NaN  \n",
      "4               NaN          NaN  \n",
      "\n",
      "[5 rows x 35 columns]\n"
     ]
    }
   ],
   "source": [
    "# Function to handle file upload\n",
    "def handle_upload(change):\n",
    "    uploaded_file = change['new'][0]\n",
    "    content = uploaded_file['content']\n",
    "    content_bytes = io.BytesIO(content)\n",
    "    df = pd.read_csv(content_bytes)\n",
    "    # You can do further processing with the dataframe here\n",
    "    # For now, let's just print the first few rows\n",
    "    print(df.head())\n",
    "    # Save the dataframe as a variable if needed\n",
    "    global layer_params\n",
    "    layer_params = df\n",
    "\n",
    "# Creating file upload widget\n",
    "file_upload = widgets.FileUpload(accept='.csv')\n",
    "\n",
    "# Attaching the event handler\n",
    "file_upload.observe(handle_upload, names='value')\n",
    "\n",
    "# Displaying the widget\n",
    "display(file_upload)"
   ]
  },
  {
   "cell_type": "code",
   "execution_count": 58,
   "metadata": {},
   "outputs": [],
   "source": [
    "#this code works\n",
    "\n",
    "# Convert DataFrames to dictionaries\n",
    "dict1 = design_pile.to_dict(orient='records')\n",
    "dict2 = layer_params.to_dict(orient='records')\n",
    "\n",
    "# Create a dictionary with dictionaries\n",
    "pile_dict = {'DataFrame1': dict1, 'DataFrame2': dict2}\n",
    "\n",
    "# Specify the file path where you want to save the JSON file\n",
    "file_path = \"C:/Users/millern8989/OneDrive - ARCADIS/Documents/Python Calculations/dataframes.json\"\n",
    "\n",
    "# Convert the dictionary to JSON format\n",
    "json_data = json.dumps(pile_dict, indent=4)\n",
    "\n",
    "# Write JSON data to a file\n",
    "with open(file_path, 'w') as json_file:\n",
    "    json_file.write(json_data)"
   ]
  },
  {
   "cell_type": "code",
   "execution_count": null,
   "metadata": {},
   "outputs": [],
   "source": [
    "#need to create code to upload JSON and break into dataframes"
   ]
  },
  {
   "cell_type": "code",
   "execution_count": 38,
   "metadata": {},
   "outputs": [],
   "source": [
    "class pile_design:\n",
    "    \n",
    "    def __init__(self):\n",
    "        \"\"\"Initialize the PileDesign object.\n",
    "\n",
    "    Args:\n",
    "        pile_specs (pandas.DataFrame): A DataFrame containing specifications for the pile design.\n",
    "            This DataFrame should have columns representing H-pile properties such as web dimensions, thickness, and interia.\n",
    "        soil_params (pandas.DataFrame): A DataFrame containing parameters describing the soil layers.\n",
    "            This DataFrame should have columns representing soil properties such as depth, unit weight, cohesion, and friction angle for each layer.\n",
    "    \"\"\"\n",
    "        self.pile_specs = design_pile\n",
    "        self.soil_params = layer_params\n",
    "        "
   ]
  },
  {
   "cell_type": "code",
   "execution_count": 40,
   "metadata": {},
   "outputs": [],
   "source": [
    "design1 = pile_design()"
   ]
  },
  {
   "cell_type": "code",
   "execution_count": 30,
   "metadata": {},
   "outputs": [],
   "source": [
    "design1.pile_length(40)"
   ]
  },
  {
   "cell_type": "code",
   "execution_count": 41,
   "metadata": {},
   "outputs": [
    {
     "data": {
      "text/html": [
       "<div>\n",
       "<style scoped>\n",
       "    .dataframe tbody tr th:only-of-type {\n",
       "        vertical-align: middle;\n",
       "    }\n",
       "\n",
       "    .dataframe tbody tr th {\n",
       "        vertical-align: top;\n",
       "    }\n",
       "\n",
       "    .dataframe thead th {\n",
       "        text-align: right;\n",
       "    }\n",
       "</style>\n",
       "<table border=\"1\" class=\"dataframe\">\n",
       "  <thead>\n",
       "    <tr style=\"text-align: right;\">\n",
       "      <th></th>\n",
       "      <th>Section_E</th>\n",
       "      <th>Weight_E</th>\n",
       "      <th>Area_E</th>\n",
       "      <th>Depth_E</th>\n",
       "      <th>Flange_Width_E</th>\n",
       "      <th>Flange_thick_E</th>\n",
       "      <th>Web_thick_E</th>\n",
       "      <th>Coating_area_E</th>\n",
       "      <th>XX_I_E</th>\n",
       "      <th>XX_S_E</th>\n",
       "      <th>XX_Z_E</th>\n",
       "      <th>XX_r_E</th>\n",
       "      <th>YY_I_E</th>\n",
       "      <th>YY_S_E</th>\n",
       "      <th>YY_Z_E</th>\n",
       "      <th>YY_r_E</th>\n",
       "    </tr>\n",
       "  </thead>\n",
       "  <tbody>\n",
       "    <tr>\n",
       "      <th>6</th>\n",
       "      <td>HP 12x74</td>\n",
       "      <td>74</td>\n",
       "      <td>21.8</td>\n",
       "      <td>12.1</td>\n",
       "      <td>12.2</td>\n",
       "      <td>0.61</td>\n",
       "      <td>0.605</td>\n",
       "      <td>5.91</td>\n",
       "      <td>569</td>\n",
       "      <td>93.8</td>\n",
       "      <td>105</td>\n",
       "      <td>5.11</td>\n",
       "      <td>186</td>\n",
       "      <td>30.4</td>\n",
       "      <td>46.6</td>\n",
       "      <td>2.92</td>\n",
       "    </tr>\n",
       "  </tbody>\n",
       "</table>\n",
       "</div>"
      ],
      "text/plain": [
       "  Section_E Weight_E Area_E Depth_E Flange_Width_E Flange_thick_E Web_thick_E  \\\n",
       "6  HP 12x74       74   21.8    12.1           12.2           0.61       0.605   \n",
       "\n",
       "  Coating_area_E XX_I_E XX_S_E XX_Z_E XX_r_E YY_I_E YY_S_E YY_Z_E YY_r_E  \n",
       "6           5.91    569   93.8    105   5.11    186   30.4   46.6   2.92  "
      ]
     },
     "execution_count": 41,
     "metadata": {},
     "output_type": "execute_result"
    }
   ],
   "source": [
    "design1.pile_specs"
   ]
  },
  {
   "cell_type": "code",
   "execution_count": 42,
   "metadata": {},
   "outputs": [
    {
     "ename": "AttributeError",
     "evalue": "'pile_design' object has no attribute 'length'",
     "output_type": "error",
     "traceback": [
      "\u001b[1;31m---------------------------------------------------------------------------\u001b[0m",
      "\u001b[1;31mAttributeError\u001b[0m                            Traceback (most recent call last)",
      "Cell \u001b[1;32mIn[42], line 1\u001b[0m\n\u001b[1;32m----> 1\u001b[0m design1\u001b[38;5;241m.\u001b[39mlength\n",
      "\u001b[1;31mAttributeError\u001b[0m: 'pile_design' object has no attribute 'length'"
     ]
    }
   ],
   "source": [
    "design1.length"
   ]
  },
  {
   "cell_type": "code",
   "execution_count": null,
   "metadata": {},
   "outputs": [],
   "source": []
  }
 ],
 "metadata": {
  "kernelspec": {
   "display_name": "base",
   "language": "python",
   "name": "python3"
  },
  "language_info": {
   "codemirror_mode": {
    "name": "ipython",
    "version": 3
   },
   "file_extension": ".py",
   "mimetype": "text/x-python",
   "name": "python",
   "nbconvert_exporter": "python",
   "pygments_lexer": "ipython3",
   "version": "3.11.4"
  }
 },
 "nbformat": 4,
 "nbformat_minor": 2
}
