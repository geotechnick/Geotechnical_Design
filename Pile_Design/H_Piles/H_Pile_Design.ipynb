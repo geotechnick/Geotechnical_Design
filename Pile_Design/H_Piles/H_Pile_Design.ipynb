{
 "cells": [
  {
   "cell_type": "markdown",
   "metadata": {},
   "source": [
    "### H-Pile Design \n",
    "#### Per NHI Courses No. 132021 and 132022 \"Design and Construction of Driven Pile Foundations - Volume 1 & 2\"\n",
    "####     \"LRFD Bridge Design Specifications\" 9th Edition 2020 "
   ]
  },
  {
   "cell_type": "code",
   "execution_count": null,
   "metadata": {},
   "outputs": [],
   "source": [
    "import numpy as np\n",
    "import pandas as pd\n",
    "import ipywidgets as widgets\n",
    "from ipywidgets import Button\n",
    "from IPython.display import display\n",
    "from ipyfilechooser import FileChooser\n",
    "import io\n",
    "import json"
   ]
  },
  {
   "cell_type": "markdown",
   "metadata": {},
   "source": [
    "#### Pile Structural Information"
   ]
  },
  {
   "cell_type": "code",
   "execution_count": null,
   "metadata": {},
   "outputs": [],
   "source": [
    "#load csv with all the H-Pile info\n",
    "H_Pile = pd.read_csv(\"https://raw.githubusercontent.com/geotechnick/Geotechnical_Design/main/Pile_Design/H_Piles/HP_Spec_Table.csv\")\n",
    "Fy = 50 # Pile yield stress in ksi\n",
    "pile_names = H_Pile['Section_E'].unique().tolist()\n",
    "\n",
    "#filter out the metric values\n",
    "H_Pile = H_Pile.loc[:, ~H_Pile.columns.str.endswith('_M')]\n",
    "\n",
    "#create drop down with the pile names \n",
    "dropdown = widgets.Dropdown(options=pile_names, description='Select Value:')\n",
    "\n",
    "# Function to display the selected row \n",
    "def display_row(selected_value):\n",
    "    global design_pile\n",
    "    design_pile = H_Pile[H_Pile['Section_E'] == selected_value] #creates dataframe that only has the selected value in it\n",
    "    pile_units = H_Pile[H_Pile['Section_E'] == 'Units_English'] #create separate dataframe that has units\n",
    "    pile_display = pd.concat([design_pile, pile_units], ignore_index=True) #combine pile properties and pile units into single dataframe\n",
    "    display(pile_display.T)\n",
    "\n",
    "# Connect the dropdown widget to the display function using interact\n",
    "widgets.interact(display_row, selected_value=dropdown) "
   ]
  },
  {
   "cell_type": "markdown",
   "metadata": {},
   "source": [
    "#### Upload Soil Profile"
   ]
  },
  {
   "cell_type": "code",
   "execution_count": null,
   "metadata": {},
   "outputs": [],
   "source": [
    "# Function to handle file upload\n",
    "def handle_upload(change):\n",
    "    uploaded_file = change['new'][0]\n",
    "    content = uploaded_file['content']\n",
    "    content_bytes = io.BytesIO(content)\n",
    "    df = pd.read_csv(content_bytes)\n",
    "\n",
    "    # For now, let's just print the first few rows\n",
    "    print(df.head())\n",
    "    # Save the dataframe as a global variable so it can be used outside of the function \n",
    "    global layer_params\n",
    "    layer_params = df\n",
    "\n",
    "# Creating file upload widget\n",
    "file_upload = widgets.FileUpload(accept='.csv')\n",
    "\n",
    "# Attaching the event handler\n",
    "file_upload.observe(handle_upload, names='value')\n",
    "\n",
    "# Displaying the widget\n",
    "display(file_upload)"
   ]
  },
  {
   "cell_type": "code",
   "execution_count": null,
   "metadata": {},
   "outputs": [],
   "source": [
    "layer_params"
   ]
  },
  {
   "cell_type": "markdown",
   "metadata": {},
   "source": [
    "### Save properties to JSON"
   ]
  },
  {
   "cell_type": "code",
   "execution_count": null,
   "metadata": {},
   "outputs": [],
   "source": [
    "def save_json_to_file(json_data, file_path):\n",
    "    if not file_path.endswith('.json'):\n",
    "        file_path += '.json'\n",
    "    with open(file_path, 'w') as json_file:\n",
    "        json_file.write(json_data)\n",
    "    print(f\"JSON data saved to {file_path}\")\n",
    "\n",
    "def save_json_widget(json_data):\n",
    "    file_chooser = FileChooser()\n",
    "    file_chooser.use_dir_icons = True\n",
    "    file_chooser.title = \"Select a location to save the JSON file\"\n",
    "    save_button = widgets.Button(description=\"Save JSON\")\n",
    "\n",
    "    def save_json(button):\n",
    "        if file_chooser.selected:\n",
    "            save_json_to_file(json_data, file_chooser.selected)\n",
    "        else:\n",
    "            print(\"Please select a valid file path.\")\n",
    "\n",
    "    save_button.on_click(save_json)\n",
    "    return widgets.VBox([file_chooser, save_button])\n",
    "\n",
    "# Create JSON File ###############################\n",
    "# Convert DataFrames to dictionaries\n",
    "dict1 = design_pile.to_dict(orient='records')\n",
    "dict2 = layer_params.to_dict(orient='records')\n",
    "\n",
    "# Create a dictionary with dictionaries\n",
    "pile_dict = {'Pile_Info': dict1, 'Soil_Properties': dict2}\n",
    "\n",
    "# Specify the file path where you want to save the JSON file\n",
    "file_path = \"C:/Users/millern8989/OneDrive - ARCADIS/Documents/Python Calculations/dataframes.json\"\n",
    "\n",
    "# Convert the dictionary to JSON format\n",
    "json_data = json.dumps(pile_dict, indent=4)\n",
    "###################################################\n",
    "\n",
    "# Display the widget\n",
    "save_json_widget(json_data)"
   ]
  },
  {
   "cell_type": "markdown",
   "metadata": {},
   "source": [
    "### Upload from save file\n"
   ]
  },
  {
   "cell_type": "code",
   "execution_count": null,
   "metadata": {},
   "outputs": [],
   "source": [
    "def handle_upload(change):\n",
    "    uploaded_file = change['new'][0]\n",
    "    content = uploaded_file['content']\n",
    "    content_bytes = content.tobytes()\n",
    "    content_str = content_bytes.decode('utf-8')\n",
    "    data = json.loads(content_str)\n",
    "\n",
    "    # Check if 'Pile_Info' key exists and create a DataFrame\n",
    "    if 'Pile_Info' in data:\n",
    "        pile_info_df = pd.DataFrame(data['Pile_Info'])\n",
    "        print(\"DataFrame for 'Pile_Info':\")\n",
    "        print(pile_info_df)\n",
    "        # Optionally, you can save the DataFrame to a file\n",
    "        # pile_info_df.to_csv(\"pile_info_data.csv\", index=False)\n",
    "    else:\n",
    "        print(\"The key 'Pile_Info' does not exist in the JSON data.\")\n",
    "\n",
    "    # Check if 'Soil_Properties' key exists and create a DataFrame\n",
    "    if 'Soil_Properties' in data:\n",
    "        soil_properties_df = pd.DataFrame(data['Soil_Properties'])\n",
    "        print(\"\\nDataFrame for 'Soil_Properties':\")\n",
    "        print(soil_properties_df)\n",
    "        # Optionally, you can save the DataFrame to a file\n",
    "        # soil_properties_df.to_csv(\"soil_properties_data.csv\", index=False)\n",
    "    else:\n",
    "        print(\"The key 'Soil_Properties' does not exist in the JSON data.\")\n",
    "\n",
    "# Creating file upload widget\n",
    "file_upload = widgets.FileUpload(accept='.json')\n",
    "\n",
    "# Attaching the event handler\n",
    "file_upload.observe(handle_upload, names='value')\n",
    "\n",
    "# Displaying the widget\n",
    "display(file_upload)"
   ]
  },
  {
   "cell_type": "code",
   "execution_count": null,
   "metadata": {},
   "outputs": [],
   "source": []
  },
  {
   "cell_type": "code",
   "execution_count": null,
   "metadata": {},
   "outputs": [],
   "source": []
  },
  {
   "cell_type": "code",
   "execution_count": null,
   "metadata": {},
   "outputs": [],
   "source": [
    "class pile_design:\n",
    "    \n",
    "    def __init__(self):\n",
    "        \"\"\"Initialize the PileDesign object.\n",
    "\n",
    "    Args:\n",
    "        pile_specs (pandas.DataFrame): A DataFrame containing specifications for the pile design.\n",
    "            This DataFrame should have columns representing H-pile properties such as web dimensions, thickness, and interia.\n",
    "        soil_params (pandas.DataFrame): A DataFrame containing parameters describing the soil layers.\n",
    "            This DataFrame should have columns representing soil properties such as depth, unit weight, cohesion, and friction angle for each layer.\n",
    "    \"\"\"\n",
    "        self.pile_specs = design_pile\n",
    "        self.soil_params = layer_params\n",
    "        "
   ]
  },
  {
   "cell_type": "code",
   "execution_count": null,
   "metadata": {},
   "outputs": [],
   "source": []
  }
 ],
 "metadata": {
  "kernelspec": {
   "display_name": "base",
   "language": "python",
   "name": "python3"
  },
  "language_info": {
   "codemirror_mode": {
    "name": "ipython",
    "version": 3
   },
   "file_extension": ".py",
   "mimetype": "text/x-python",
   "name": "python",
   "nbconvert_exporter": "python",
   "pygments_lexer": "ipython3",
   "version": "3.11.4"
  }
 },
 "nbformat": 4,
 "nbformat_minor": 2
}
