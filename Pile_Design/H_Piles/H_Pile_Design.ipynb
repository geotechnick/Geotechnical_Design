{
 "cells": [
  {
   "cell_type": "markdown",
   "metadata": {},
   "source": [
    "### H-Pile Design \n",
    "#### Per NHI Courses No. 132021 and 132022 \"Design and Construction of Driven Pile Foundations - Volume 1 & 2\"\n",
    "####     \"LRFD Bridge Design Specifications\" 9th Edition 2020 "
   ]
  },
  {
   "cell_type": "code",
   "execution_count": 64,
   "metadata": {},
   "outputs": [],
   "source": [
    "import numpy as np\n",
    "import pandas as pd\n",
    "import ipywidgets as widgets\n",
    "from IPython.display import display"
   ]
  },
  {
   "cell_type": "markdown",
   "metadata": {},
   "source": [
    "#### Pile Structural Information"
   ]
  },
  {
   "cell_type": "code",
   "execution_count": 95,
   "metadata": {},
   "outputs": [
    {
     "data": {
      "application/vnd.jupyter.widget-view+json": {
       "model_id": "86c0a94ed70a4380b5c2cf83a357818e",
       "version_major": 2,
       "version_minor": 0
      },
      "text/plain": [
       "interactive(children=(Dropdown(description='Select Value:', options=('Units_English', 'HP 8x36', 'HP 10x42', '…"
      ]
     },
     "metadata": {},
     "output_type": "display_data"
    },
    {
     "data": {
      "text/plain": [
       "<function __main__.display_row(selected_value)>"
      ]
     },
     "execution_count": 95,
     "metadata": {},
     "output_type": "execute_result"
    }
   ],
   "source": [
    "#load csv with all the H-Pile info\n",
    "H_Pile = pd.read_csv(\"HP_Spec_Table.csv\")\n",
    "Fy = 50 # Pile yield stress in ksi\n",
    "pile_names = H_Pile['Section_E'].unique().tolist()\n",
    "\n",
    "\n",
    "H_Pile = H_Pile.loc[:, ~H_Pile.columns.str.endswith('_M')]\n",
    "\n",
    "dropdown = widgets.Dropdown(options=pile_names, description='Select Value:')\n",
    "\n",
    "# Function to display the selected row\n",
    "def display_row(selected_value):\n",
    "    global design_pile\n",
    "    design_pile = H_Pile[H_Pile['Section_E'] == selected_value]\n",
    "    pile_units = H_Pile[H_Pile['Section_E'] == 'Units_English']\n",
    "    pile_display = pd.concat([design_pile, pile_units], ignore_index=True)\n",
    "    pile_display = pile_display\n",
    "    display(pile_display.T)\n",
    "\n",
    "# Connect the dropdown widget to the display function using interact\n",
    "widgets.interact(display_row, selected_value=dropdown)"
   ]
  },
  {
   "cell_type": "code",
   "execution_count": 91,
   "metadata": {},
   "outputs": [
    {
     "name": "stdout",
     "output_type": "stream",
     "text": [
      "   Weight_E Area_E Depth_E Flange_Width_E Flange_thick_E Web_thick_E  \\\n",
      "0     lb/ft    in2      in             in             in          in   \n",
      "1        36   10.6    8.02           8.16          0.445       0.445   \n",
      "2        42   12.4     9.7           10.1           0.42       0.415   \n",
      "3        57   16.7    9.99           10.2          0.565       0.565   \n",
      "4        53   15.5    11.8             12          0.435       0.435   \n",
      "5        63   18.4    11.9           12.1          0.515       0.515   \n",
      "6        74   21.8    12.1           12.2           0.61       0.605   \n",
      "7        84   24.6    12.3           12.3          0.685       0.685   \n",
      "8        89   25.9   12.36          12.32           0.72        0.72   \n",
      "9       102   29.9   12.56          12.64          0.819       0.819   \n",
      "10      117   34.4   12.76          12.87          0.929       0.929   \n",
      "11       73   21.4    13.6           14.6          0.505       0.505   \n",
      "12       89   26.1    13.8           14.7          0.615       0.615   \n",
      "13      102   30.1      14           14.8          0.705       0.705   \n",
      "14      117   34.4    14.2           14.9          0.805       0.805   \n",
      "15       88   25.8    15.3           15.7           0.54        0.54   \n",
      "16      101   29.9    15.5           15.8          0.625       0.625   \n",
      "17      121   35.8    15.8           15.9           0.75        0.75   \n",
      "18      141   41.7      16             16          0.875       0.875   \n",
      "19      162   47.7    16.3           16.1              1           1   \n",
      "20      183   54.1    16.5           16.3           1.13        1.13   \n",
      "21      135   39.9    17.5           17.8           0.75        0.75   \n",
      "22      157   46.2    17.7           17.9           0.87        0.87   \n",
      "23      181   53.2      18             18              1           1   \n",
      "24      204   60.2    18.3           18.1           1.13        1.13   \n",
      "\n",
      "   Coating_area_E XX_I_E XX_S_E XX_Z_E XX_r_E YY_I_E YY_S_E YY_Z_E YY_r_E  \n",
      "0          ft2/ft    in4    in3    in3     in    in4    in3    in3     in  \n",
      "1            3.92    119   29.8   33.6   3.36   40.3   9.88   15.2   1.95  \n",
      "2            4.83    210   43.4   48.3   4.13   71.7   14.2   21.8   2.41  \n",
      "3            4.91    294   58.8   66.5   4.18    101   19.7   30.3   2.45  \n",
      "4            5.82    393   66.7     74   5.03    127   21.1   32.2   2.86  \n",
      "5            5.86    472   79.1   88.3   5.06    153   25.3   38.7   2.88  \n",
      "6            5.91    569   93.8    105   5.11    186   30.4   46.6   2.92  \n",
      "7            5.97    650    106    120   5.14    213   34.6   53.2   2.94  \n",
      "8            6.04    689  111.6  126.3   5.16    225   36.5   56.2   2.94  \n",
      "9            6.17    811  129.3  147.6    5.2    276   43.7   67.1   3.04  \n",
      "10           6.26    946  148.2  170.8   5.24    331   51.4   79.3   3.11  \n",
      "11           6.96    729    107    118   5.84    261   35.8   54.6   3.49  \n",
      "12           7.02    904    131    146   5.88    326   44.3   67.7   3.53  \n",
      "13           7.06   1050    150    169   5.92    380   51.4   78.8   3.56  \n",
      "14           7.12   1220    172    194   5.96    443   59.5   91.4   3.59  \n",
      "15           7.52   1110    145    161   6.56    349   44.5   68.2   3.68  \n",
      "16           7.56   1300    168    187   6.59    412   52.2   80.1   3.71  \n",
      "17           7.62   1590    201    226   6.66    504   63.4   97.6   3.75  \n",
      "18           7.69   1870    234    264    6.7    599   74.9    116   3.79  \n",
      "19           7.75   2190    269    306   6.78    697   86.6    134   3.82  \n",
      "20           7.81   2510    304    349   6.81    818    100    156   3.89  \n",
      "21           8.54   2200    251    281   7.43    706   79.3    122   4.21  \n",
      "22            8.6   2570    290    327   7.46    833   93.1    143   4.25  \n",
      "23           8.66   3020    336    379   7.53    974    108    167   4.28  \n",
      "24           8.73   3480    380    433    7.6   1120    124    191   4.31  \n"
     ]
    }
   ],
   "source": [
    "H_Pile = H_Pile\n",
    "print(H_Pile)"
   ]
  },
  {
   "cell_type": "code",
   "execution_count": null,
   "metadata": {},
   "outputs": [],
   "source": []
  },
  {
   "cell_type": "code",
   "execution_count": null,
   "metadata": {},
   "outputs": [],
   "source": []
  }
 ],
 "metadata": {
  "kernelspec": {
   "display_name": "base",
   "language": "python",
   "name": "python3"
  },
  "language_info": {
   "codemirror_mode": {
    "name": "ipython",
    "version": 3
   },
   "file_extension": ".py",
   "mimetype": "text/x-python",
   "name": "python",
   "nbconvert_exporter": "python",
   "pygments_lexer": "ipython3",
   "version": "3.11.4"
  }
 },
 "nbformat": 4,
 "nbformat_minor": 2
}
