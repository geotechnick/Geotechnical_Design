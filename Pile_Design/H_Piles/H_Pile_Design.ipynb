{
 "cells": [
  {
   "cell_type": "markdown",
   "metadata": {},
   "source": [
    "### H-Pile Design \n",
    "#### Per NHI Courses No. 132021 and 132022 \"Design and Construction of Driven Pile Foundations - Volume 1 & 2\"\n",
    "####     \"LRFD Bridge Design Specifications\" 9th Edition 2020 "
   ]
  },
  {
   "cell_type": "code",
   "execution_count": 3,
   "metadata": {},
   "outputs": [
    {
     "name": "stderr",
     "output_type": "stream",
     "text": [
      "c:\\Users\\millern8989\\AppData\\Local\\anaconda3\\Lib\\site-packages\\pandas\\core\\arrays\\masked.py:60: UserWarning: Pandas requires version '1.3.6' or newer of 'bottleneck' (version '1.3.5' currently installed).\n",
      "  from pandas.core import (\n"
     ]
    }
   ],
   "source": [
    "import numpy as np\n",
    "import pandas as pd\n",
    "import ipywidgets as widgets\n",
    "from ipywidgets import Button\n",
    "from IPython.display import display\n",
    "from ipyfilechooser import FileChooser\n",
    "import io\n",
    "import json"
   ]
  },
  {
   "cell_type": "markdown",
   "metadata": {},
   "source": [
    "#### Pile Structural Information"
   ]
  },
  {
   "cell_type": "code",
   "execution_count": 8,
   "metadata": {},
   "outputs": [
    {
     "data": {
      "application/vnd.jupyter.widget-view+json": {
       "model_id": "2a658e69eb624b9b818f7db406c97618",
       "version_major": 2,
       "version_minor": 0
      },
      "text/plain": [
       "interactive(children=(Dropdown(description='Select Value:', options=('Units_English', 'HP 8x36', 'HP 10x42', '…"
      ]
     },
     "metadata": {},
     "output_type": "display_data"
    },
    {
     "data": {
      "text/plain": [
       "<function __main__.display_row(selected_value)>"
      ]
     },
     "execution_count": 8,
     "metadata": {},
     "output_type": "execute_result"
    }
   ],
   "source": [
    "#load csv with all the H-Pile info\n",
    "H_Pile = pd.read_csv(\"https://raw.githubusercontent.com/geotechnick/Geotechnical_Design/main/Pile_Design/H_Piles/HP_Spec_Table.csv\")\n",
    "Fy = 50 # Pile yield stress in ksi\n",
    "pile_names = H_Pile['Section_E'].unique().tolist()\n",
    "\n",
    "#filter out the metric values\n",
    "H_Pile = H_Pile.loc[:, ~H_Pile.columns.str.endswith('_M')]\n",
    "\n",
    "#create drop down with the pile names \n",
    "dropdown = widgets.Dropdown(options=pile_names, description='Select Value:')\n",
    "\n",
    "# Function to display the selected row \n",
    "def display_row(selected_value):\n",
    "    global Pile_Info\n",
    "    Pile_Info = H_Pile[H_Pile['Section_E'] == selected_value] #creates dataframe that only has the selected value in it\n",
    "    pile_units = H_Pile[H_Pile['Section_E'] == 'Units_English'] #create separate dataframe that has units\n",
    "    pile_display = pd.concat([Pile_Info, pile_units], ignore_index=True) #combine pile properties and pile units into single dataframe\n",
    "    \n",
    "    ## adds case_1 to the data frame\n",
    "    # Get the current index label of the first row\n",
    "    old_index_label = Pile_Info.index[0]\n",
    "\n",
    "    # Define the new label for the first row\n",
    "    new_index_label = 'case_1'\n",
    "\n",
    "    # Rename the first row\n",
    "    Pile_Info = Pile_Info.rename(index={old_index_label: new_index_label})\n",
    "\n",
    "    # Now the first row is renamed and shifted\n",
    "    Pile_Info.reset_index(inplace=True)\n",
    "\n",
    "    display(pile_display.T)\n",
    "# Connect the dropdown widget to the display function using interact\n",
    "widgets.interact(display_row, selected_value=dropdown) "
   ]
  },
  {
   "cell_type": "markdown",
   "metadata": {},
   "source": [
    "#### Upload Soil Profile"
   ]
  },
  {
   "cell_type": "code",
   "execution_count": 9,
   "metadata": {},
   "outputs": [
    {
     "data": {
      "application/vnd.jupyter.widget-view+json": {
       "model_id": "dabf02597a124c4c9a7e769369d91df8",
       "version_major": 2,
       "version_minor": 0
      },
      "text/plain": [
       "FileUpload(value=(), accept='.csv', description='Upload')"
      ]
     },
     "metadata": {},
     "output_type": "display_data"
    },
    {
     "name": "stdout",
     "output_type": "stream",
     "text": [
      "                layer non_soil  lv_top_elev  mlv_top_elev  hv_top_elev  \\\n",
      "0  Design_Water_Level        y          8.5           9.5         10.5   \n",
      "1             Layer I      NaN         10.5          10.5         10.5   \n",
      "2       Layer II Clay      NaN         -1.0           0.0          1.0   \n",
      "3           Layer III      NaN         -6.0          -5.0         -4.0   \n",
      "4       Layer IV Clay      NaN        -32.0         -31.0        -30.0   \n",
      "\n",
      "   lv_bottom_elev  mlv_bottom_elev  hv_bottom_elev  lv_top_depth  \\\n",
      "0             NaN              NaN             NaN           NaN   \n",
      "1            -1.0              0.0             1.0           NaN   \n",
      "2            -6.0             -5.0            -4.0           NaN   \n",
      "3           -32.0            -31.0           -30.0           NaN   \n",
      "4           -47.0            -46.0           -45.0           NaN   \n",
      "\n",
      "   mlv_top_depth  ...  lv_residual_coh  mlv_residual_coh  hv_residual_coh  \\\n",
      "0            NaN  ...              NaN               NaN              NaN   \n",
      "1            NaN  ...              NaN               NaN              NaN   \n",
      "2            NaN  ...              NaN               NaN              NaN   \n",
      "3            NaN  ...              NaN               NaN              NaN   \n",
      "4            NaN  ...              NaN               NaN              NaN   \n",
      "\n",
      "   lv_effective_phi  mlv_effective_phi  hv_effective_phi  lv_effective_coh  \\\n",
      "0               NaN                NaN               NaN               NaN   \n",
      "1               NaN                NaN               NaN               NaN   \n",
      "2               NaN                NaN               NaN               NaN   \n",
      "3               NaN                NaN               NaN               NaN   \n",
      "4               NaN                NaN               NaN               NaN   \n",
      "\n",
      "   mlv_effective_coh  hv_effective_coh  Unnamed: 35  \n",
      "0                NaN               NaN          NaN  \n",
      "1                NaN               NaN          NaN  \n",
      "2                NaN               NaN          NaN  \n",
      "3                NaN               NaN          NaN  \n",
      "4                NaN               NaN          NaN  \n",
      "\n",
      "[5 rows x 36 columns]\n"
     ]
    }
   ],
   "source": [
    "# Function to handle file upload\n",
    "def handle_upload(change):\n",
    "    uploaded_file = change['new'][0]\n",
    "    content = uploaded_file['content']\n",
    "    content_bytes = io.BytesIO(content)\n",
    "    df = pd.read_csv(content_bytes)\n",
    "\n",
    "    # For now, let's just print the first few rows\n",
    "    print(df.head())\n",
    "    # Save the dataframe as a global variable so it can be used outside of the function \n",
    "    global Layer_Properties\n",
    "    Layer_Properties = df\n",
    "\n",
    "# Creating file upload widget\n",
    "file_upload = widgets.FileUpload(accept='.csv')\n",
    "\n",
    "# Attaching the event handler\n",
    "file_upload.observe(handle_upload, names='value')\n",
    "\n",
    "# Displaying the widget\n",
    "display(file_upload)"
   ]
  },
  {
   "cell_type": "code",
   "execution_count": 10,
   "metadata": {},
   "outputs": [
    {
     "data": {
      "application/vnd.jupyter.widget-view+json": {
       "model_id": "dbdb335afa4e4ee3a9c08398f0579539",
       "version_major": 2,
       "version_minor": 0
      },
      "text/plain": [
       "VBox(children=(Text(value='', description='Ground Surface:'), Text(value='', description='Top Pile:'), FloatTe…"
      ]
     },
     "metadata": {},
     "output_type": "display_data"
    },
    {
     "data": {
      "text/html": [
       "<div>\n",
       "<style scoped>\n",
       "    .dataframe tbody tr th:only-of-type {\n",
       "        vertical-align: middle;\n",
       "    }\n",
       "\n",
       "    .dataframe tbody tr th {\n",
       "        vertical-align: top;\n",
       "    }\n",
       "\n",
       "    .dataframe thead th {\n",
       "        text-align: right;\n",
       "    }\n",
       "</style>\n",
       "<table border=\"1\" class=\"dataframe\">\n",
       "  <thead>\n",
       "    <tr style=\"text-align: right;\">\n",
       "      <th></th>\n",
       "      <th>index</th>\n",
       "      <th>Ground Surface</th>\n",
       "      <th>Top Pile</th>\n",
       "      <th>Pile Length</th>\n",
       "      <th>Predrill Depth</th>\n",
       "      <th>Steel Strength</th>\n",
       "    </tr>\n",
       "  </thead>\n",
       "  <tbody>\n",
       "    <tr>\n",
       "      <th>0</th>\n",
       "      <td>case_1</td>\n",
       "      <td>0</td>\n",
       "      <td>1</td>\n",
       "      <td>100.0</td>\n",
       "      <td>5.0</td>\n",
       "      <td>50.0</td>\n",
       "    </tr>\n",
       "  </tbody>\n",
       "</table>\n",
       "</div>"
      ],
      "text/plain": [
       "    index Ground Surface Top Pile  Pile Length  Predrill Depth  Steel Strength\n",
       "0  case_1              0        1        100.0             5.0            50.0"
      ]
     },
     "metadata": {},
     "output_type": "display_data"
    }
   ],
   "source": [
    "#Should add Pile_Axial_Info with ground_surface, top_pile, pile_length, predrill_depth, steel_strength\n",
    "# Define the widgets for user input\n",
    "ground_surface_text = widgets.Text(description=\"Ground Surface:\")\n",
    "top_pile_text = widgets.Text(description=\"Top Pile:\")\n",
    "pile_length_float = widgets.FloatText(description=\"Pile Length:\")\n",
    "predrill_depth_float = widgets.FloatText(description=\"Predrill Depth:\")\n",
    "steel_strength_float = widgets.FloatText(description=\"Steel Strength:\")\n",
    "\n",
    "# Function to handle user input and create DataFrame\n",
    "def create_dataframe(ground_surface, top_pile, pile_length, predrill_depth, steel_strength):\n",
    "    global Pile_Axial_Info\n",
    "    data = {\n",
    "        \"Ground Surface\": [ground_surface],\n",
    "        \"Top Pile\": [top_pile],\n",
    "        \"Pile Length\": [pile_length],\n",
    "        \"Predrill Depth\": [predrill_depth],\n",
    "        \"Steel Strength\": [steel_strength]\n",
    "    }\n",
    "    Pile_Axial_Info = pd.DataFrame(data)\n",
    "    \n",
    "    ## adds case_1 to the data frame\n",
    "    # Get the current index label of the first row\n",
    "    old_index_label = Pile_Axial_Info.index[0]\n",
    "\n",
    "    # Define the new label for the first row\n",
    "    new_index_label = 'case_1'\n",
    "\n",
    "    # Rename the first row\n",
    "    Pile_Axial_Info = Pile_Axial_Info.rename(index={old_index_label: new_index_label})\n",
    "\n",
    "    # Now the first row is renamed and shifted\n",
    "    Pile_Axial_Info.reset_index(inplace=True)\n",
    "\n",
    "    return Pile_Axial_Info\n",
    "\n",
    "# Button to trigger dataframe creation\n",
    "submit_button = widgets.Button(description=\"Submit\")\n",
    "\n",
    "def on_submit_button_clicked(b):\n",
    "    display(create_dataframe(ground_surface_text.value, top_pile_text.value, pile_length_float.value, predrill_depth_float.value, steel_strength_float.value))\n",
    "\n",
    "submit_button.on_click(on_submit_button_clicked)\n",
    "\n",
    "# Display the widgets and button\n",
    "input_widgets = widgets.VBox([ground_surface_text, top_pile_text, pile_length_float, predrill_depth_float, steel_strength_float, submit_button])\n",
    "display(input_widgets)"
   ]
  },
  {
   "cell_type": "markdown",
   "metadata": {},
   "source": [
    "### Save properties to JSON"
   ]
  },
  {
   "cell_type": "code",
   "execution_count": 11,
   "metadata": {},
   "outputs": [
    {
     "data": {
      "application/vnd.jupyter.widget-view+json": {
       "model_id": "aea5ab6b5e7248229786b0fea13ef046",
       "version_major": 2,
       "version_minor": 0
      },
      "text/plain": [
       "VBox(children=(FileChooser(path='C:\\Users\\millern8989\\OneDrive - ARCADIS\\Documents\\GitHub\\Geotechnical_Design\\…"
      ]
     },
     "execution_count": 11,
     "metadata": {},
     "output_type": "execute_result"
    },
    {
     "name": "stdout",
     "output_type": "stream",
     "text": [
      "JSON data saved to C:\\Users\\millern8989\\OneDrive - ARCADIS\\Documents\\Python Calculations\\Pile_Save.json\n"
     ]
    }
   ],
   "source": [
    "def save_json_to_file(json_data, file_path):\n",
    "    if not file_path.endswith('.json'):\n",
    "        file_path += '.json'\n",
    "    with open(file_path, 'w') as json_file:\n",
    "        json_file.write(json_data)\n",
    "    print(f\"JSON data saved to {file_path}\")\n",
    "\n",
    "def save_json_widget(json_data):\n",
    "    file_chooser = FileChooser()\n",
    "    file_chooser.use_dir_icons = True\n",
    "    file_chooser.title = \"Select a location to save the JSON file\"\n",
    "    save_button = widgets.Button(description=\"Save JSON\")\n",
    "\n",
    "    def save_json(button):\n",
    "        if file_chooser.selected:\n",
    "            save_json_to_file(json_data, file_chooser.selected)\n",
    "        else:\n",
    "            print(\"Please select a valid file path.\")\n",
    "\n",
    "    save_button.on_click(save_json)\n",
    "    return widgets.VBox([file_chooser, save_button])\n",
    "\n",
    "# Create JSON File ###############################\n",
    "# Convert DataFrames to dictionaries\n",
    "dict1 = Pile_Info.to_dict(orient='records')\n",
    "dict2 = Layer_Properties.to_dict(orient='records')\n",
    "dict3 = Pile_Axial_Info.to_dict(orient='records')\n",
    "\n",
    "# Create a dictionary with dictionaries\n",
    "pile_dict = {'Pile_Info': dict1, 'Layer_Properties': dict2, 'Pile_Axial_Info': dict3}\n",
    "\n",
    "# Convert the dictionary to JSON format\n",
    "json_data = json.dumps(pile_dict, indent=4)\n",
    "###################################################\n",
    "\n",
    "# Display the widget\n",
    "save_json_widget(json_data)"
   ]
  },
  {
   "cell_type": "markdown",
   "metadata": {},
   "source": [
    "### Upload from save file\n"
   ]
  },
  {
   "cell_type": "code",
   "execution_count": 12,
   "metadata": {},
   "outputs": [
    {
     "data": {
      "application/vnd.jupyter.widget-view+json": {
       "model_id": "21a8570e20ed43fe8db8f9487cc1bd72",
       "version_major": 2,
       "version_minor": 0
      },
      "text/plain": [
       "FileUpload(value=(), accept='.json', description='Upload')"
      ]
     },
     "metadata": {},
     "output_type": "display_data"
    }
   ],
   "source": [
    "def handle_upload(change):\n",
    "    global Pile_Info\n",
    "    global Layer_Properties\n",
    "    global Pile_Axial_Info\n",
    "    uploaded_file = change['new'][0]\n",
    "    content = uploaded_file['content']\n",
    "    content_bytes = content.tobytes()\n",
    "    content_str = content_bytes.decode('utf-8')\n",
    "    data = json.loads(content_str)\n",
    "\n",
    "    # Check if 'Pile_Info' key exists and create a DataFrame\n",
    "    if 'Pile_Info' in data:\n",
    "        Pile_Info = pd.DataFrame(data['Pile_Info'])\n",
    "        print(\"DataFrame for 'Pile_Info':\")\n",
    "        print(Pile_Info)\n",
    "        # Optionally, you can save the DataFrame to a file\n",
    "        # pile_info_df.to_csv(\"pile_info_data.csv\", index=False)\n",
    "    else:\n",
    "        print(\"The key 'Pile_Info' does not exist in the JSON data.\")\n",
    "\n",
    "    # Check if 'Soil_Properties' key exists and create a DataFrame\n",
    "    if 'Layer_Properties' in data:\n",
    "        Layer_Properties = pd.DataFrame(data['Layer_Properties'])\n",
    "        print(\"\\nDataFrame for 'Layer_Properties':\")\n",
    "        print(Layer_Properties)\n",
    "        # Optionally, you can save the DataFrame to a file\n",
    "        # soil_properties_df.to_csv(\"soil_properties_data.csv\", index=False)\n",
    "    else:\n",
    "        print(\"The key 'Layer_Properties' does not exist in the JSON data.\")\n",
    "\n",
    "        # Check if 'Soil_Properties' key exists and create a DataFrame\n",
    "    if 'Pile_Axial_Info' in data:\n",
    "        Pile_Axial_Info = pd.DataFrame(data['Pile_Axial_Info'])\n",
    "        print(\"\\nDataFrame for 'Pile_Axial_Info':\")\n",
    "        print(Pile_Axial_Info)\n",
    "        # Optionally, you can save the DataFrame to a file\n",
    "        # soil_properties_df.to_csv(\"soil_properties_data.csv\", index=False)\n",
    "    else:\n",
    "        print(\"The key 'Pile_Axial_Info' does not exist in the JSON data.\")\n",
    "\n",
    "# Creating file upload widget\n",
    "file_upload = widgets.FileUpload(accept='.json')\n",
    "\n",
    "# Attaching the event handler\n",
    "file_upload.observe(handle_upload, names='value')\n",
    "\n",
    "# Displaying the widget\n",
    "display(file_upload)"
   ]
  },
  {
   "cell_type": "code",
   "execution_count": 5,
   "metadata": {},
   "outputs": [],
   "source": [
    "class pile_design:\n",
    "    \n",
    "    def __init__(self):\n",
    "        self.Pile_Info = Pile_Info\n",
    "        self.Layer_Properties = Layer_Properties\n",
    "        self.Pile_Axial_Info = Pile_Axial_Info\n",
    "    \n",
    "    def Pile_Effective_Stress (self):\n",
    "        self.top_pile = pd.to_numeric(self.Pile_Axial_Info.iloc[0]['Top Pile'])\n",
    "        self.gs = pd.to_numeric(self.Pile_Axial_Info.iloc[0]['Ground Surface'])\n",
    "        self.pile_length = pd.to_numeric(self.Pile_Axial_Info.iloc[0]['Pile Length'])\n",
    "        self.bot_pile = pd.to_numeric(self.Pile_Axial_Info.iloc[0]['Top Pile']) - pd.to_numeric(self.Pile_Axial_Info.iloc[0]['Pile Length'])\n",
    "        \n",
    "        self.pile_ruler = []\n",
    "        for i in range(self.pile_length + 1):\n",
    "            self.pile_ruler.append(self.top_pile - i)\n",
    "\n",
    "        self.eff_stress = []\n",
    "        for i in self.pile_ruler:\n",
    "            if i > self.gs:\n",
    "                self.eff_stress.append(0)\n",
    "            \n",
    "            # Boolean indexing to find the row where the variable fits between the upper and lower numbers\n",
    "            matching_row = self.Layer_Properties[(self.Layer_Properties['mlv_top_elev'] <= i) & \n",
    "                                                (i < self.Layer_Properties['mlv_bottom_elev'])]\n",
    "\n",
    "\n",
    "    def Nordlund_Method(self):"
   ]
  },
  {
   "cell_type": "code",
   "execution_count": 6,
   "metadata": {},
   "outputs": [],
   "source": [
    "test_class = pile_design()"
   ]
  },
  {
   "cell_type": "code",
   "execution_count": 36,
   "metadata": {},
   "outputs": [
    {
     "data": {
      "text/plain": [
       "[1,\n",
       " 0,\n",
       " -1,\n",
       " -2,\n",
       " -3,\n",
       " -4,\n",
       " -5,\n",
       " -6,\n",
       " -7,\n",
       " -8,\n",
       " -9,\n",
       " -10,\n",
       " -11,\n",
       " -12,\n",
       " -13,\n",
       " -14,\n",
       " -15,\n",
       " -16,\n",
       " -17,\n",
       " -18,\n",
       " -19,\n",
       " -20,\n",
       " -21,\n",
       " -22,\n",
       " -23,\n",
       " -24,\n",
       " -25,\n",
       " -26,\n",
       " -27,\n",
       " -28,\n",
       " -29,\n",
       " -30,\n",
       " -31,\n",
       " -32,\n",
       " -33,\n",
       " -34,\n",
       " -35,\n",
       " -36,\n",
       " -37,\n",
       " -38,\n",
       " -39,\n",
       " -40,\n",
       " -41,\n",
       " -42,\n",
       " -43,\n",
       " -44,\n",
       " -45,\n",
       " -46,\n",
       " -47,\n",
       " -48,\n",
       " -49,\n",
       " -50,\n",
       " -51,\n",
       " -52,\n",
       " -53,\n",
       " -54,\n",
       " -55,\n",
       " -56,\n",
       " -57,\n",
       " -58,\n",
       " -59,\n",
       " -60,\n",
       " -61,\n",
       " -62,\n",
       " -63,\n",
       " -64,\n",
       " -65,\n",
       " -66,\n",
       " -67,\n",
       " -68,\n",
       " -69,\n",
       " -70,\n",
       " -71,\n",
       " -72,\n",
       " -73,\n",
       " -74,\n",
       " -75,\n",
       " -76,\n",
       " -77,\n",
       " -78,\n",
       " -79,\n",
       " -80,\n",
       " -81,\n",
       " -82,\n",
       " -83,\n",
       " -84,\n",
       " -85,\n",
       " -86,\n",
       " -87,\n",
       " -88,\n",
       " -89,\n",
       " -90,\n",
       " -91,\n",
       " -92,\n",
       " -93,\n",
       " -94,\n",
       " -95,\n",
       " -96,\n",
       " -97,\n",
       " -98,\n",
       " -99]"
      ]
     },
     "execution_count": 36,
     "metadata": {},
     "output_type": "execute_result"
    }
   ],
   "source": [
    "top_pile = pd.to_numeric(Pile_Axial_Info.iloc[0]['Top Pile'])\n",
    "gs = pd.to_numeric(Pile_Axial_Info.iloc[0]['Ground Surface'])\n",
    "pile_length = int(pd.to_numeric(Pile_Axial_Info.iloc[0]['Pile Length']))\n",
    "bot_pile = pd.to_numeric(Pile_Axial_Info.iloc[0]['Top Pile']) - pd.to_numeric(Pile_Axial_Info.iloc[0]['Pile Length'])\n",
    "        \n",
    "pile_ruler = []\n",
    "\n",
    "for i in range(pile_length + 1):\n",
    "    pile_ruler.append(top_pile - i)\n",
    "\n",
    "pile_ruler"
   ]
  },
  {
   "cell_type": "code",
   "execution_count": 51,
   "metadata": {},
   "outputs": [
    {
     "ename": "ValueError",
     "evalue": "Unable to parse string \"nan\" at position 0",
     "output_type": "error",
     "traceback": [
      "\u001b[1;31m---------------------------------------------------------------------------\u001b[0m",
      "\u001b[1;31mValueError\u001b[0m                                Traceback (most recent call last)",
      "File \u001b[1;32mlib.pyx:2391\u001b[0m, in \u001b[0;36mpandas._libs.lib.maybe_convert_numeric\u001b[1;34m()\u001b[0m\n",
      "\u001b[1;31mValueError\u001b[0m: Unable to parse string \"nan\"",
      "\nDuring handling of the above exception, another exception occurred:\n",
      "\u001b[1;31mValueError\u001b[0m                                Traceback (most recent call last)",
      "Cell \u001b[1;32mIn[51], line 2\u001b[0m\n\u001b[0;32m      1\u001b[0m Layer_Properties[[\u001b[38;5;124m'\u001b[39m\u001b[38;5;124mmlv_top_elev\u001b[39m\u001b[38;5;124m'\u001b[39m]] \u001b[38;5;241m=\u001b[39m Layer_Properties[[\u001b[38;5;124m'\u001b[39m\u001b[38;5;124mmlv_top_elev\u001b[39m\u001b[38;5;124m'\u001b[39m]]\u001b[38;5;241m.\u001b[39mapply(pd\u001b[38;5;241m.\u001b[39mto_numeric)\n\u001b[1;32m----> 2\u001b[0m Layer_Properties[[\u001b[38;5;124m'\u001b[39m\u001b[38;5;124mmlv_bottom_elev\u001b[39m\u001b[38;5;124m'\u001b[39m]] \u001b[38;5;241m=\u001b[39m Layer_Properties[[\u001b[38;5;124m'\u001b[39m\u001b[38;5;124mmlv_bottom_elev\u001b[39m\u001b[38;5;124m'\u001b[39m]]\u001b[38;5;241m.\u001b[39mapply(pd\u001b[38;5;241m.\u001b[39mto_numeric)\n\u001b[0;32m      4\u001b[0m i \u001b[38;5;241m=\u001b[39m \u001b[38;5;28mint\u001b[39m(\u001b[38;5;241m-\u001b[39m\u001b[38;5;241m60\u001b[39m)\n\u001b[0;32m      5\u001b[0m \u001b[38;5;66;03m# Boolean indexing to find the row where the variable fits between the upper and lower numbers\u001b[39;00m\n",
      "File \u001b[1;32mc:\\Users\\millern8989\\AppData\\Local\\anaconda3\\Lib\\site-packages\\pandas\\core\\frame.py:10361\u001b[0m, in \u001b[0;36mDataFrame.apply\u001b[1;34m(self, func, axis, raw, result_type, args, by_row, engine, engine_kwargs, **kwargs)\u001b[0m\n\u001b[0;32m  10347\u001b[0m \u001b[38;5;28;01mfrom\u001b[39;00m \u001b[38;5;21;01mpandas\u001b[39;00m\u001b[38;5;21;01m.\u001b[39;00m\u001b[38;5;21;01mcore\u001b[39;00m\u001b[38;5;21;01m.\u001b[39;00m\u001b[38;5;21;01mapply\u001b[39;00m \u001b[38;5;28;01mimport\u001b[39;00m frame_apply\n\u001b[0;32m  10349\u001b[0m op \u001b[38;5;241m=\u001b[39m frame_apply(\n\u001b[0;32m  10350\u001b[0m     \u001b[38;5;28mself\u001b[39m,\n\u001b[0;32m  10351\u001b[0m     func\u001b[38;5;241m=\u001b[39mfunc,\n\u001b[1;32m   (...)\u001b[0m\n\u001b[0;32m  10359\u001b[0m     kwargs\u001b[38;5;241m=\u001b[39mkwargs,\n\u001b[0;32m  10360\u001b[0m )\n\u001b[1;32m> 10361\u001b[0m \u001b[38;5;28;01mreturn\u001b[39;00m op\u001b[38;5;241m.\u001b[39mapply()\u001b[38;5;241m.\u001b[39m__finalize__(\u001b[38;5;28mself\u001b[39m, method\u001b[38;5;241m=\u001b[39m\u001b[38;5;124m\"\u001b[39m\u001b[38;5;124mapply\u001b[39m\u001b[38;5;124m\"\u001b[39m)\n",
      "File \u001b[1;32mc:\\Users\\millern8989\\AppData\\Local\\anaconda3\\Lib\\site-packages\\pandas\\core\\apply.py:916\u001b[0m, in \u001b[0;36mFrameApply.apply\u001b[1;34m(self)\u001b[0m\n\u001b[0;32m    913\u001b[0m \u001b[38;5;28;01melif\u001b[39;00m \u001b[38;5;28mself\u001b[39m\u001b[38;5;241m.\u001b[39mraw:\n\u001b[0;32m    914\u001b[0m     \u001b[38;5;28;01mreturn\u001b[39;00m \u001b[38;5;28mself\u001b[39m\u001b[38;5;241m.\u001b[39mapply_raw(engine\u001b[38;5;241m=\u001b[39m\u001b[38;5;28mself\u001b[39m\u001b[38;5;241m.\u001b[39mengine, engine_kwargs\u001b[38;5;241m=\u001b[39m\u001b[38;5;28mself\u001b[39m\u001b[38;5;241m.\u001b[39mengine_kwargs)\n\u001b[1;32m--> 916\u001b[0m \u001b[38;5;28;01mreturn\u001b[39;00m \u001b[38;5;28mself\u001b[39m\u001b[38;5;241m.\u001b[39mapply_standard()\n",
      "File \u001b[1;32mc:\\Users\\millern8989\\AppData\\Local\\anaconda3\\Lib\\site-packages\\pandas\\core\\apply.py:1063\u001b[0m, in \u001b[0;36mFrameApply.apply_standard\u001b[1;34m(self)\u001b[0m\n\u001b[0;32m   1061\u001b[0m \u001b[38;5;28;01mdef\u001b[39;00m \u001b[38;5;21mapply_standard\u001b[39m(\u001b[38;5;28mself\u001b[39m):\n\u001b[0;32m   1062\u001b[0m     \u001b[38;5;28;01mif\u001b[39;00m \u001b[38;5;28mself\u001b[39m\u001b[38;5;241m.\u001b[39mengine \u001b[38;5;241m==\u001b[39m \u001b[38;5;124m\"\u001b[39m\u001b[38;5;124mpython\u001b[39m\u001b[38;5;124m\"\u001b[39m:\n\u001b[1;32m-> 1063\u001b[0m         results, res_index \u001b[38;5;241m=\u001b[39m \u001b[38;5;28mself\u001b[39m\u001b[38;5;241m.\u001b[39mapply_series_generator()\n\u001b[0;32m   1064\u001b[0m     \u001b[38;5;28;01melse\u001b[39;00m:\n\u001b[0;32m   1065\u001b[0m         results, res_index \u001b[38;5;241m=\u001b[39m \u001b[38;5;28mself\u001b[39m\u001b[38;5;241m.\u001b[39mapply_series_numba()\n",
      "File \u001b[1;32mc:\\Users\\millern8989\\AppData\\Local\\anaconda3\\Lib\\site-packages\\pandas\\core\\apply.py:1081\u001b[0m, in \u001b[0;36mFrameApply.apply_series_generator\u001b[1;34m(self)\u001b[0m\n\u001b[0;32m   1078\u001b[0m \u001b[38;5;28;01mwith\u001b[39;00m option_context(\u001b[38;5;124m\"\u001b[39m\u001b[38;5;124mmode.chained_assignment\u001b[39m\u001b[38;5;124m\"\u001b[39m, \u001b[38;5;28;01mNone\u001b[39;00m):\n\u001b[0;32m   1079\u001b[0m     \u001b[38;5;28;01mfor\u001b[39;00m i, v \u001b[38;5;129;01min\u001b[39;00m \u001b[38;5;28menumerate\u001b[39m(series_gen):\n\u001b[0;32m   1080\u001b[0m         \u001b[38;5;66;03m# ignore SettingWithCopy here in case the user mutates\u001b[39;00m\n\u001b[1;32m-> 1081\u001b[0m         results[i] \u001b[38;5;241m=\u001b[39m \u001b[38;5;28mself\u001b[39m\u001b[38;5;241m.\u001b[39mfunc(v, \u001b[38;5;241m*\u001b[39m\u001b[38;5;28mself\u001b[39m\u001b[38;5;241m.\u001b[39margs, \u001b[38;5;241m*\u001b[39m\u001b[38;5;241m*\u001b[39m\u001b[38;5;28mself\u001b[39m\u001b[38;5;241m.\u001b[39mkwargs)\n\u001b[0;32m   1082\u001b[0m         \u001b[38;5;28;01mif\u001b[39;00m \u001b[38;5;28misinstance\u001b[39m(results[i], ABCSeries):\n\u001b[0;32m   1083\u001b[0m             \u001b[38;5;66;03m# If we have a view on v, we need to make a copy because\u001b[39;00m\n\u001b[0;32m   1084\u001b[0m             \u001b[38;5;66;03m#  series_generator will swap out the underlying data\u001b[39;00m\n\u001b[0;32m   1085\u001b[0m             results[i] \u001b[38;5;241m=\u001b[39m results[i]\u001b[38;5;241m.\u001b[39mcopy(deep\u001b[38;5;241m=\u001b[39m\u001b[38;5;28;01mFalse\u001b[39;00m)\n",
      "File \u001b[1;32mc:\\Users\\millern8989\\AppData\\Local\\anaconda3\\Lib\\site-packages\\pandas\\core\\tools\\numeric.py:232\u001b[0m, in \u001b[0;36mto_numeric\u001b[1;34m(arg, errors, downcast, dtype_backend)\u001b[0m\n\u001b[0;32m    230\u001b[0m coerce_numeric \u001b[38;5;241m=\u001b[39m errors \u001b[38;5;129;01mnot\u001b[39;00m \u001b[38;5;129;01min\u001b[39;00m (\u001b[38;5;124m\"\u001b[39m\u001b[38;5;124mignore\u001b[39m\u001b[38;5;124m\"\u001b[39m, \u001b[38;5;124m\"\u001b[39m\u001b[38;5;124mraise\u001b[39m\u001b[38;5;124m\"\u001b[39m)\n\u001b[0;32m    231\u001b[0m \u001b[38;5;28;01mtry\u001b[39;00m:\n\u001b[1;32m--> 232\u001b[0m     values, new_mask \u001b[38;5;241m=\u001b[39m lib\u001b[38;5;241m.\u001b[39mmaybe_convert_numeric(  \u001b[38;5;66;03m# type: ignore[call-overload]\u001b[39;00m\n\u001b[0;32m    233\u001b[0m         values,\n\u001b[0;32m    234\u001b[0m         \u001b[38;5;28mset\u001b[39m(),\n\u001b[0;32m    235\u001b[0m         coerce_numeric\u001b[38;5;241m=\u001b[39mcoerce_numeric,\n\u001b[0;32m    236\u001b[0m         convert_to_masked_nullable\u001b[38;5;241m=\u001b[39mdtype_backend \u001b[38;5;129;01mis\u001b[39;00m \u001b[38;5;129;01mnot\u001b[39;00m lib\u001b[38;5;241m.\u001b[39mno_default\n\u001b[0;32m    237\u001b[0m         \u001b[38;5;129;01mor\u001b[39;00m \u001b[38;5;28misinstance\u001b[39m(values_dtype, StringDtype)\n\u001b[0;32m    238\u001b[0m         \u001b[38;5;129;01mand\u001b[39;00m \u001b[38;5;129;01mnot\u001b[39;00m values_dtype\u001b[38;5;241m.\u001b[39mstorage \u001b[38;5;241m==\u001b[39m \u001b[38;5;124m\"\u001b[39m\u001b[38;5;124mpyarrow_numpy\u001b[39m\u001b[38;5;124m\"\u001b[39m,\n\u001b[0;32m    239\u001b[0m     )\n\u001b[0;32m    240\u001b[0m \u001b[38;5;28;01mexcept\u001b[39;00m (\u001b[38;5;167;01mValueError\u001b[39;00m, \u001b[38;5;167;01mTypeError\u001b[39;00m):\n\u001b[0;32m    241\u001b[0m     \u001b[38;5;28;01mif\u001b[39;00m errors \u001b[38;5;241m==\u001b[39m \u001b[38;5;124m\"\u001b[39m\u001b[38;5;124mraise\u001b[39m\u001b[38;5;124m\"\u001b[39m:\n",
      "File \u001b[1;32mlib.pyx:2433\u001b[0m, in \u001b[0;36mpandas._libs.lib.maybe_convert_numeric\u001b[1;34m()\u001b[0m\n",
      "\u001b[1;31mValueError\u001b[0m: Unable to parse string \"nan\" at position 0"
     ]
    }
   ],
   "source": [
    "Layer_Properties[['mlv_top_elev']] = Layer_Properties[['mlv_top_elev']].apply(pd.to_numeric)\n",
    "Layer_Properties[['mlv_bottom_elev']] = Layer_Properties[['mlv_bottom_elev']].apply(pd.to_numeric)\n",
    "\n",
    "i = int(-60)\n",
    "# Boolean indexing to find the row where the variable fits between the upper and lower numbers\n",
    "matching_row = Layer_Properties[(Layer_Properties['mlv_top_elev'] <= i) & \n",
    "                                                (i < Layer_Properties['mlv_bottom_elev'])]\n",
    "\n",
    "matching_row"
   ]
  },
  {
   "cell_type": "code",
   "execution_count": 49,
   "metadata": {},
   "outputs": [],
   "source": [
    "Layer_Properties[['mlv_top_elev']] = Layer_Properties[['mlv_top_elev']].apply(pd.to_numeric)\n",
    "Layer_Properties[['mlv_bottom_elev']] = Layer_Properties[['mlv_bottom_elev']].apply(pd.to_numeric)\n"
   ]
  },
  {
   "cell_type": "code",
   "execution_count": 50,
   "metadata": {},
   "outputs": [
    {
     "name": "stdout",
     "output_type": "stream",
     "text": [
      "layer                 object\n",
      "non_soil              object\n",
      "lv_top_elev          float64\n",
      "mlv_top_elev         float64\n",
      "hv_top_elev          float64\n",
      "lv_bottom_elev       float64\n",
      "mlv_bottom_elev       object\n",
      "hv_bottom_elev       float64\n",
      "lv_top_depth         float64\n",
      "mlv_top_depth        float64\n",
      "hv_top_depth         float64\n",
      "lv_bottom_depth      float64\n",
      "mlv_bottom_depth     float64\n",
      "hv_bottom_depth      float64\n",
      "lv_uw                float64\n",
      "mlv_uw               float64\n",
      "hv_uw                float64\n",
      "lv_total_phi         float64\n",
      "mlv_total_phi        float64\n",
      "hv_total_phi         float64\n",
      "lv_total_coh         float64\n",
      "mlv_total_coh        float64\n",
      "hv_total_coh         float64\n",
      "lv_residual_phi      float64\n",
      "mlv_residual_phi     float64\n",
      "hv_residual_phi      float64\n",
      "lv_residual_coh      float64\n",
      "mlv_residual_coh     float64\n",
      "hv_residual_coh      float64\n",
      "lv_effective_phi     float64\n",
      "mlv_effective_phi    float64\n",
      "hv_effective_phi     float64\n",
      "lv_effective_coh     float64\n",
      "mlv_effective_coh    float64\n",
      "hv_effective_coh     float64\n",
      "Unnamed: 35          float64\n",
      "dtype: object\n"
     ]
    }
   ],
   "source": [
    "print(Layer_Properties.dtypes)"
   ]
  },
  {
   "cell_type": "code",
   "execution_count": null,
   "metadata": {},
   "outputs": [],
   "source": []
  }
 ],
 "metadata": {
  "kernelspec": {
   "display_name": "base",
   "language": "python",
   "name": "python3"
  },
  "language_info": {
   "codemirror_mode": {
    "name": "ipython",
    "version": 3
   },
   "file_extension": ".py",
   "mimetype": "text/x-python",
   "name": "python",
   "nbconvert_exporter": "python",
   "pygments_lexer": "ipython3",
   "version": "3.11.4"
  }
 },
 "nbformat": 4,
 "nbformat_minor": 2
}
