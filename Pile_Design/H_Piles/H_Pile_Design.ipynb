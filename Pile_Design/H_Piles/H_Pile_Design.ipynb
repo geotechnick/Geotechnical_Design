{
 "cells": [
  {
   "cell_type": "markdown",
   "metadata": {},
   "source": [
    "### H-Pile Design \n",
    "#### Per NHI Courses No. 132021 and 132022 \"Design and Construction of Driven Pile Foundations - Volume 1 & 2\"\n",
    "####     \"LRFD Bridge Design Specifications\" 9th Edition 2020 "
   ]
  },
  {
   "cell_type": "code",
   "execution_count": 4,
   "metadata": {},
   "outputs": [],
   "source": [
    "import numpy as np\n",
    "import pandas as pd\n",
    "import ipywidgets as widgets\n",
    "from ipywidgets import Button\n",
    "from IPython.display import display\n",
    "from ipyfilechooser import FileChooser\n",
    "import io\n",
    "import json"
   ]
  },
  {
   "cell_type": "markdown",
   "metadata": {},
   "source": [
    "#### Pile Structural Information"
   ]
  },
  {
   "cell_type": "code",
   "execution_count": 20,
   "metadata": {},
   "outputs": [
    {
     "data": {
      "application/vnd.jupyter.widget-view+json": {
       "model_id": "23286c9043434098ad93862a528710cb",
       "version_major": 2,
       "version_minor": 0
      },
      "text/plain": [
       "interactive(children=(Dropdown(description='Select Value:', options=('Units_English', 'HP 8x36', 'HP 10x42', '…"
      ]
     },
     "metadata": {},
     "output_type": "display_data"
    },
    {
     "data": {
      "text/plain": [
       "<function __main__.display_row(selected_value)>"
      ]
     },
     "execution_count": 20,
     "metadata": {},
     "output_type": "execute_result"
    }
   ],
   "source": [
    "#load csv with all the H-Pile info\n",
    "H_Pile = pd.read_csv(\"https://raw.githubusercontent.com/geotechnick/Geotechnical_Design/main/Pile_Design/H_Piles/HP_Spec_Table.csv\")\n",
    "Fy = 50 # Pile yield stress in ksi\n",
    "pile_names = H_Pile['Section_E'].unique().tolist()\n",
    "\n",
    "#filter out the metric values\n",
    "H_Pile = H_Pile.loc[:, ~H_Pile.columns.str.endswith('_M')]\n",
    "\n",
    "#create drop down with the pile names \n",
    "dropdown = widgets.Dropdown(options=pile_names, description='Select Value:')\n",
    "\n",
    "# Function to display the selected row \n",
    "def display_row(selected_value):\n",
    "    global Pile_Info\n",
    "    Pile_Info = H_Pile[H_Pile['Section_E'] == selected_value] #creates dataframe that only has the selected value in it\n",
    "    pile_units = H_Pile[H_Pile['Section_E'] == 'Units_English'] #create separate dataframe that has units\n",
    "    pile_display = pd.concat([Pile_Info, pile_units], ignore_index=True) #combine pile properties and pile units into single dataframe\n",
    "    \n",
    "    ## adds case_1 to the data frame\n",
    "    # Get the current index label of the first row\n",
    "    old_index_label = Pile_Info.index[0]\n",
    "\n",
    "    # Define the new label for the first row\n",
    "    new_index_label = 'case_1'\n",
    "\n",
    "    # Rename the first row\n",
    "    Pile_Info = Pile_Info.rename(index={old_index_label: new_index_label})\n",
    "\n",
    "    # Now the first row is renamed and shifted\n",
    "    Pile_Info.reset_index(inplace=True)\n",
    "\n",
    "    display(pile_display.T)\n",
    "# Connect the dropdown widget to the display function using interact\n",
    "widgets.interact(display_row, selected_value=dropdown) "
   ]
  },
  {
   "cell_type": "markdown",
   "metadata": {},
   "source": [
    "#### Upload Soil Profile"
   ]
  },
  {
   "cell_type": "code",
   "execution_count": 21,
   "metadata": {},
   "outputs": [
    {
     "data": {
      "application/vnd.jupyter.widget-view+json": {
       "model_id": "af1b7e3031d84c78a960c3d7a24a5c74",
       "version_major": 2,
       "version_minor": 0
      },
      "text/plain": [
       "FileUpload(value=(), accept='.csv', description='Upload')"
      ]
     },
     "metadata": {},
     "output_type": "display_data"
    },
    {
     "name": "stdout",
     "output_type": "stream",
     "text": [
      "           layer  lv_top_elev  mlv_top_elev  hv_top_elev  lv_bottom_elev  \\\n",
      "0        Layer I         10.5          10.5         10.5              -1   \n",
      "1  Layer II Clay         -1.0           0.0          1.0              -6   \n",
      "2      Layer III         -6.0          -5.0         -4.0             -32   \n",
      "3  Layer IV Clay        -32.0         -31.0        -30.0             -47   \n",
      "4        Layer V        -47.0         -46.0        -45.0             -59   \n",
      "\n",
      "   mlv_bottom_elev  hv_bottom_elev  lv_top_depth  mlv_top_depth  hv_top_depth  \\\n",
      "0                0               1           NaN            NaN           NaN   \n",
      "1               -5              -4           NaN            NaN           NaN   \n",
      "2              -31             -30           NaN            NaN           NaN   \n",
      "3              -46             -45           NaN            NaN           NaN   \n",
      "4              -58             -57           NaN            NaN           NaN   \n",
      "\n",
      "   ...  lv_residual_coh  mlv_residual_coh  hv_residual_coh  lv_effective_phi  \\\n",
      "0  ...              NaN               NaN              NaN               NaN   \n",
      "1  ...              NaN               NaN              NaN               NaN   \n",
      "2  ...              NaN               NaN              NaN               NaN   \n",
      "3  ...              NaN               NaN              NaN               NaN   \n",
      "4  ...              NaN               NaN              NaN               NaN   \n",
      "\n",
      "   mlv_effective_phi  hv_effective_phi  lv_effective_coh  mlv_effective_coh  \\\n",
      "0                NaN               NaN               NaN                NaN   \n",
      "1                NaN               NaN               NaN                NaN   \n",
      "2                NaN               NaN               NaN                NaN   \n",
      "3                NaN               NaN               NaN                NaN   \n",
      "4                NaN               NaN               NaN                NaN   \n",
      "\n",
      "   hv_effective_coh  Unnamed: 34  \n",
      "0               NaN          NaN  \n",
      "1               NaN          NaN  \n",
      "2               NaN          NaN  \n",
      "3               NaN          NaN  \n",
      "4               NaN          NaN  \n",
      "\n",
      "[5 rows x 35 columns]\n"
     ]
    }
   ],
   "source": [
    "# Function to handle file upload\n",
    "def handle_upload(change):\n",
    "    uploaded_file = change['new'][0]\n",
    "    content = uploaded_file['content']\n",
    "    content_bytes = io.BytesIO(content)\n",
    "    df = pd.read_csv(content_bytes)\n",
    "\n",
    "    # For now, let's just print the first few rows\n",
    "    print(df.head())\n",
    "    # Save the dataframe as a global variable so it can be used outside of the function \n",
    "    global Layer_Properties\n",
    "    Layer_Properties = df\n",
    "\n",
    "# Creating file upload widget\n",
    "file_upload = widgets.FileUpload(accept='.csv')\n",
    "\n",
    "# Attaching the event handler\n",
    "file_upload.observe(handle_upload, names='value')\n",
    "\n",
    "# Displaying the widget\n",
    "display(file_upload)"
   ]
  },
  {
   "cell_type": "code",
   "execution_count": 22,
   "metadata": {},
   "outputs": [
    {
     "data": {
      "application/vnd.jupyter.widget-view+json": {
       "model_id": "96a40cb72673476999773ee1f70475ae",
       "version_major": 2,
       "version_minor": 0
      },
      "text/plain": [
       "VBox(children=(Text(value='', description='Ground Surface:'), Text(value='', description='Top Pile:'), FloatTe…"
      ]
     },
     "metadata": {},
     "output_type": "display_data"
    },
    {
     "data": {
      "text/html": [
       "<div>\n",
       "<style scoped>\n",
       "    .dataframe tbody tr th:only-of-type {\n",
       "        vertical-align: middle;\n",
       "    }\n",
       "\n",
       "    .dataframe tbody tr th {\n",
       "        vertical-align: top;\n",
       "    }\n",
       "\n",
       "    .dataframe thead th {\n",
       "        text-align: right;\n",
       "    }\n",
       "</style>\n",
       "<table border=\"1\" class=\"dataframe\">\n",
       "  <thead>\n",
       "    <tr style=\"text-align: right;\">\n",
       "      <th></th>\n",
       "      <th>index</th>\n",
       "      <th>Ground Surface</th>\n",
       "      <th>Top Pile</th>\n",
       "      <th>Pile Length</th>\n",
       "      <th>Predrill Depth</th>\n",
       "      <th>Steel Strength</th>\n",
       "    </tr>\n",
       "  </thead>\n",
       "  <tbody>\n",
       "    <tr>\n",
       "      <th>0</th>\n",
       "      <td>case_1</td>\n",
       "      <td>8</td>\n",
       "      <td>9</td>\n",
       "      <td>90.0</td>\n",
       "      <td>5.0</td>\n",
       "      <td>50.0</td>\n",
       "    </tr>\n",
       "  </tbody>\n",
       "</table>\n",
       "</div>"
      ],
      "text/plain": [
       "    index Ground Surface Top Pile  Pile Length  Predrill Depth  Steel Strength\n",
       "0  case_1              8        9         90.0             5.0            50.0"
      ]
     },
     "metadata": {},
     "output_type": "display_data"
    }
   ],
   "source": [
    "#Should add Pile_Axial_Info with ground_surface, top_pile, pile_length, predrill_depth, steel_strength\n",
    "# Define the widgets for user input\n",
    "ground_surface_text = widgets.Text(description=\"Ground Surface:\")\n",
    "top_pile_text = widgets.Text(description=\"Top Pile:\")\n",
    "pile_length_float = widgets.FloatText(description=\"Pile Length:\")\n",
    "predrill_depth_float = widgets.FloatText(description=\"Predrill Depth:\")\n",
    "steel_strength_float = widgets.FloatText(description=\"Steel Strength:\")\n",
    "\n",
    "# Function to handle user input and create DataFrame\n",
    "def create_dataframe(ground_surface, top_pile, pile_length, predrill_depth, steel_strength):\n",
    "    global Pile_Axial_Info\n",
    "    data = {\n",
    "        \"Ground Surface\": [ground_surface],\n",
    "        \"Top Pile\": [top_pile],\n",
    "        \"Pile Length\": [pile_length],\n",
    "        \"Predrill Depth\": [predrill_depth],\n",
    "        \"Steel Strength\": [steel_strength]\n",
    "    }\n",
    "    Pile_Axial_Info = pd.DataFrame(data)\n",
    "    \n",
    "    ## adds case_1 to the data frame\n",
    "    # Get the current index label of the first row\n",
    "    old_index_label = Pile_Axial_Info.index[0]\n",
    "\n",
    "    # Define the new label for the first row\n",
    "    new_index_label = 'case_1'\n",
    "\n",
    "    # Rename the first row\n",
    "    Pile_Axial_Info = Pile_Axial_Info.rename(index={old_index_label: new_index_label})\n",
    "\n",
    "    # Now the first row is renamed and shifted\n",
    "    Pile_Axial_Info.reset_index(inplace=True)\n",
    "\n",
    "    return Pile_Axial_Info\n",
    "\n",
    "# Button to trigger dataframe creation\n",
    "submit_button = widgets.Button(description=\"Submit\")\n",
    "\n",
    "def on_submit_button_clicked(b):\n",
    "    display(create_dataframe(ground_surface_text.value, top_pile_text.value, pile_length_float.value, predrill_depth_float.value, steel_strength_float.value))\n",
    "\n",
    "submit_button.on_click(on_submit_button_clicked)\n",
    "\n",
    "# Display the widgets and button\n",
    "input_widgets = widgets.VBox([ground_surface_text, top_pile_text, pile_length_float, predrill_depth_float, steel_strength_float, submit_button])\n",
    "display(input_widgets)"
   ]
  },
  {
   "cell_type": "markdown",
   "metadata": {},
   "source": [
    "### Save properties to JSON"
   ]
  },
  {
   "cell_type": "code",
   "execution_count": 23,
   "metadata": {},
   "outputs": [
    {
     "data": {
      "application/vnd.jupyter.widget-view+json": {
       "model_id": "22d9c56fd9474649b579d891ba790630",
       "version_major": 2,
       "version_minor": 0
      },
      "text/plain": [
       "VBox(children=(FileChooser(path='C:\\Users\\millern8989\\OneDrive - ARCADIS\\Documents\\GitHub\\Geotechnical_Design\\…"
      ]
     },
     "execution_count": 23,
     "metadata": {},
     "output_type": "execute_result"
    },
    {
     "name": "stdout",
     "output_type": "stream",
     "text": [
      "JSON data saved to C:\\Users\\millern8989\\OneDrive - ARCADIS\\Documents\\Python Calculations\\test_save.json\n"
     ]
    }
   ],
   "source": [
    "def save_json_to_file(json_data, file_path):\n",
    "    if not file_path.endswith('.json'):\n",
    "        file_path += '.json'\n",
    "    with open(file_path, 'w') as json_file:\n",
    "        json_file.write(json_data)\n",
    "    print(f\"JSON data saved to {file_path}\")\n",
    "\n",
    "def save_json_widget(json_data):\n",
    "    file_chooser = FileChooser()\n",
    "    file_chooser.use_dir_icons = True\n",
    "    file_chooser.title = \"Select a location to save the JSON file\"\n",
    "    save_button = widgets.Button(description=\"Save JSON\")\n",
    "\n",
    "    def save_json(button):\n",
    "        if file_chooser.selected:\n",
    "            save_json_to_file(json_data, file_chooser.selected)\n",
    "        else:\n",
    "            print(\"Please select a valid file path.\")\n",
    "\n",
    "    save_button.on_click(save_json)\n",
    "    return widgets.VBox([file_chooser, save_button])\n",
    "\n",
    "# Create JSON File ###############################\n",
    "# Convert DataFrames to dictionaries\n",
    "dict1 = Pile_Info.to_dict(orient='records')\n",
    "dict2 = Layer_Properties.to_dict(orient='records')\n",
    "dict3 = Pile_Axial_Info.to_dict(orient='records')\n",
    "\n",
    "# Create a dictionary with dictionaries\n",
    "pile_dict = {'Pile_Info': dict1, 'Layer_Properties': dict2, 'Pile_Axial_Info': dict3}\n",
    "\n",
    "# Convert the dictionary to JSON format\n",
    "json_data = json.dumps(pile_dict, indent=4)\n",
    "###################################################\n",
    "\n",
    "# Display the widget\n",
    "save_json_widget(json_data)"
   ]
  },
  {
   "cell_type": "markdown",
   "metadata": {},
   "source": [
    "### Upload from save file\n"
   ]
  },
  {
   "cell_type": "code",
   "execution_count": 56,
   "metadata": {},
   "outputs": [
    {
     "data": {
      "application/vnd.jupyter.widget-view+json": {
       "model_id": "1089c5b588ce448fa6a8706d19950ed7",
       "version_major": 2,
       "version_minor": 0
      },
      "text/plain": [
       "FileUpload(value=(), accept='.json', description='Upload')"
      ]
     },
     "metadata": {},
     "output_type": "display_data"
    },
    {
     "name": "stdout",
     "output_type": "stream",
     "text": [
      "DataFrame for 'Pile_Info':\n",
      "      case_1\n",
      "0   HP 10x42\n",
      "1         42\n",
      "2       12.4\n",
      "3        9.7\n",
      "4       10.1\n",
      "5       0.42\n",
      "6      0.415\n",
      "7       4.83\n",
      "8        210\n",
      "9       43.4\n",
      "10      48.3\n",
      "11      4.13\n",
      "12      71.7\n",
      "13      14.2\n",
      "14      21.8\n",
      "15      2.41\n",
      "\n",
      "DataFrame for 'Layer_Properties':\n",
      "    Boring  Ground_Elev_ft  DEPTH_TOP_ft  SAMPLE_ELEV_ft   USCS  \\\n",
      "0      B-1           710.0           1.0           709.0     SC   \n",
      "1      B-1           710.0           3.0           707.0     SC   \n",
      "2      B-1           710.0           5.0           705.0     SC   \n",
      "3      B-1           710.0           7.0           703.0  SC-SM   \n",
      "4      B-1           710.0           9.0           701.0  SC-SM   \n",
      "..     ...             ...           ...             ...    ...   \n",
      "713   RB-4             NaN           9.0            -9.0  SW-SM   \n",
      "714   RB-4             NaN          10.5           -10.5  CL-ML   \n",
      "715   RB-4             NaN          12.0           -12.0  SW-SM   \n",
      "716   RB-4             NaN          13.5           -13.5  SW-SM   \n",
      "717   RB-4             NaN          15.0           -15.0  SW-SM   \n",
      "\n",
      "     moisture_content  per_Gravel  per_Sand  per_Fines Total  per_P_2um  ...  \\\n",
      "0                 NaN         NaN       NaN              NaN        NaN  ...   \n",
      "1                11.5        17.9      42.5             40.0        NaN  ...   \n",
      "2                 NaN         NaN       NaN              NaN        NaN  ...   \n",
      "3                13.2         1.0      56.2             43.0        NaN  ...   \n",
      "4                 NaN         NaN       NaN              NaN        NaN  ...   \n",
      "..                ...         ...       ...              ...        ...  ...   \n",
      "713               NaN         NaN       NaN              NaN        NaN  ...   \n",
      "714               NaN         NaN       NaN              NaN        NaN  ...   \n",
      "715               NaN         NaN       NaN              NaN        NaN  ...   \n",
      "716               NaN         NaN       NaN              NaN        NaN  ...   \n",
      "717               NaN         NaN       NaN              NaN        NaN  ...   \n",
      "\n",
      "     Corr_overburden_psf  Corr_u  Corr_eff_overburden_psf Corr_OCR  \\\n",
      "0                 125.02     0.0                      125      327   \n",
      "1                 363.64     0.0                      364       86   \n",
      "2                 592.22     0.0                      592      NaN   \n",
      "3                 830.83     0.0                      831       41   \n",
      "4                1069.44     0.0                     1069      NaN   \n",
      "..                   ...     ...                      ...      ...   \n",
      "713              1055.19  1809.6                  -754.41      NaN   \n",
      "714              1242.72  1903.2                  -660.48      NaN   \n",
      "715              1435.44  1996.8                  -561.36      NaN   \n",
      "716               1633.5  2090.4                   -456.9      NaN   \n",
      "717              1847.71  2184.0                  -336.29      NaN   \n",
      "\n",
      "    HC_LAB_Kv_cm_s HC_LAB_Kv_ft_s  HC_Hazen_Sand_K_cm_s  HC_Kh_cm_s  \\\n",
      "0              NaN            NaN                   NaN         NaN   \n",
      "1              NaN            NaN                   NaN         NaN   \n",
      "2              NaN            NaN                   NaN         NaN   \n",
      "3              NaN            NaN                   NaN         NaN   \n",
      "4              NaN            NaN                   NaN         NaN   \n",
      "..             ...            ...                   ...         ...   \n",
      "713            NaN            NaN                   NaN         NaN   \n",
      "714            NaN            NaN                   NaN         NaN   \n",
      "715            NaN            NaN                   NaN         NaN   \n",
      "716            NaN            NaN                   NaN         NaN   \n",
      "717            NaN            NaN                   NaN         NaN   \n",
      "\n",
      "     Ground_Water_ft  Effective_Stress_psf  \n",
      "0              690.0                   NaN  \n",
      "1              690.0                   NaN  \n",
      "2              690.0                   NaN  \n",
      "3              690.0                   NaN  \n",
      "4              690.0                   NaN  \n",
      "..               ...                   ...  \n",
      "713              NaN                   NaN  \n",
      "714              NaN                   NaN  \n",
      "715              NaN                   NaN  \n",
      "716              NaN                   NaN  \n",
      "717              NaN                   NaN  \n",
      "\n",
      "[718 rows x 72 columns]\n"
     ]
    }
   ],
   "source": [
    "def handle_upload(change):\n",
    "    global Pile_Info\n",
    "    global Layer_Properties\n",
    "    global Pile_Axial_Info\n",
    "    uploaded_file = change['new'][0]\n",
    "    content = uploaded_file['content']\n",
    "    content_bytes = content.tobytes()\n",
    "    content_str = content_bytes.decode('utf-8')\n",
    "    data = json.loads(content_str)\n",
    "\n",
    "    # Check if 'Pile_Info' key exists and create a DataFrame\n",
    "    if 'Pile_Info' in data:\n",
    "        Pile_Info = pd.DataFrame(data['Pile_Info'])\n",
    "        print(\"DataFrame for 'Pile_Info':\")\n",
    "        print(Pile_Info)\n",
    "        # Optionally, you can save the DataFrame to a file\n",
    "        # pile_info_df.to_csv(\"pile_info_data.csv\", index=False)\n",
    "    else:\n",
    "        print(\"The key 'Pile_Info' does not exist in the JSON data.\")\n",
    "\n",
    "    # Check if 'Soil_Properties' key exists and create a DataFrame\n",
    "    if 'Layer_Properties' in data:\n",
    "        Layer_Properties = pd.DataFrame(data['Layer_Properties'])\n",
    "        print(\"\\nDataFrame for 'Layer_Properties':\")\n",
    "        print(Layer_Properties)\n",
    "        # Optionally, you can save the DataFrame to a file\n",
    "        # soil_properties_df.to_csv(\"soil_properties_data.csv\", index=False)\n",
    "    else:\n",
    "        print(\"The key 'Layer_Properties' does not exist in the JSON data.\")\n",
    "\n",
    "        # Check if 'Soil_Properties' key exists and create a DataFrame\n",
    "    if 'Pile_Axial_Info' in data:\n",
    "        Pile_Axial_Info = pd.DataFrame(data['Pile_Axial_Info'])\n",
    "        print(\"\\nDataFrame for 'Pile_Axial_Info':\")\n",
    "        print(Pile_Axial_Info)\n",
    "        # Optionally, you can save the DataFrame to a file\n",
    "        # soil_properties_df.to_csv(\"soil_properties_data.csv\", index=False)\n",
    "    else:\n",
    "        print(\"The key 'Pile_Axial_Info' does not exist in the JSON data.\")\n",
    "\n",
    "# Creating file upload widget\n",
    "file_upload = widgets.FileUpload(accept='.json')\n",
    "\n",
    "# Attaching the event handler\n",
    "file_upload.observe(handle_upload, names='value')\n",
    "\n",
    "# Displaying the widget\n",
    "display(file_upload)"
   ]
  },
  {
   "cell_type": "code",
   "execution_count": 23,
   "metadata": {},
   "outputs": [
    {
     "data": {
      "text/html": [
       "<div>\n",
       "<style scoped>\n",
       "    .dataframe tbody tr th:only-of-type {\n",
       "        vertical-align: middle;\n",
       "    }\n",
       "\n",
       "    .dataframe tbody tr th {\n",
       "        vertical-align: top;\n",
       "    }\n",
       "\n",
       "    .dataframe thead th {\n",
       "        text-align: right;\n",
       "    }\n",
       "</style>\n",
       "<table border=\"1\" class=\"dataframe\">\n",
       "  <thead>\n",
       "    <tr style=\"text-align: right;\">\n",
       "      <th></th>\n",
       "      <th>Section_E</th>\n",
       "      <th>Weight_E</th>\n",
       "      <th>Area_E</th>\n",
       "      <th>Depth_E</th>\n",
       "      <th>Flange_Width_E</th>\n",
       "      <th>Flange_thick_E</th>\n",
       "      <th>Web_thick_E</th>\n",
       "      <th>Coating_area_E</th>\n",
       "      <th>XX_I_E</th>\n",
       "      <th>XX_S_E</th>\n",
       "      <th>XX_Z_E</th>\n",
       "      <th>XX_r_E</th>\n",
       "      <th>YY_I_E</th>\n",
       "      <th>YY_S_E</th>\n",
       "      <th>YY_Z_E</th>\n",
       "      <th>YY_r_E</th>\n",
       "    </tr>\n",
       "  </thead>\n",
       "  <tbody>\n",
       "    <tr>\n",
       "      <th>0</th>\n",
       "      <td>HP 12x53</td>\n",
       "      <td>53</td>\n",
       "      <td>15.5</td>\n",
       "      <td>11.8</td>\n",
       "      <td>12</td>\n",
       "      <td>0.435</td>\n",
       "      <td>0.435</td>\n",
       "      <td>5.82</td>\n",
       "      <td>393</td>\n",
       "      <td>66.7</td>\n",
       "      <td>74</td>\n",
       "      <td>5.03</td>\n",
       "      <td>127</td>\n",
       "      <td>21.1</td>\n",
       "      <td>32.2</td>\n",
       "      <td>2.86</td>\n",
       "    </tr>\n",
       "  </tbody>\n",
       "</table>\n",
       "</div>"
      ],
      "text/plain": [
       "  Section_E Weight_E Area_E Depth_E Flange_Width_E Flange_thick_E Web_thick_E  \\\n",
       "0  HP 12x53       53   15.5    11.8             12          0.435       0.435   \n",
       "\n",
       "  Coating_area_E XX_I_E XX_S_E XX_Z_E XX_r_E YY_I_E YY_S_E YY_Z_E YY_r_E  \n",
       "0           5.82    393   66.7     74   5.03    127   21.1   32.2   2.86  "
      ]
     },
     "execution_count": 23,
     "metadata": {},
     "output_type": "execute_result"
    }
   ],
   "source": [
    "Pile_Info"
   ]
  },
  {
   "cell_type": "code",
   "execution_count": null,
   "metadata": {},
   "outputs": [],
   "source": [
    "class pile_design:\n",
    "    \n",
    "    def __init__(self):\n",
    "        self.Pile_Info = Pile_Info\n",
    "        self.Layer_Properties = Layer_Properties\n",
    "\n",
    "    def pile_length(self,length):\n",
    "        self.length = length\n",
    "        "
   ]
  },
  {
   "cell_type": "code",
   "execution_count": null,
   "metadata": {},
   "outputs": [],
   "source": []
  }
 ],
 "metadata": {
  "kernelspec": {
   "display_name": "base",
   "language": "python",
   "name": "python3"
  },
  "language_info": {
   "codemirror_mode": {
    "name": "ipython",
    "version": 3
   },
   "file_extension": ".py",
   "mimetype": "text/x-python",
   "name": "python",
   "nbconvert_exporter": "python",
   "pygments_lexer": "ipython3",
   "version": "3.11.4"
  }
 },
 "nbformat": 4,
 "nbformat_minor": 2
}
