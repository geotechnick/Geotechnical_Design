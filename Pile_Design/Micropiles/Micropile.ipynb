{
 "cells": [
  {
   "cell_type": "code",
   "execution_count": 2,
   "id": "f4dd98f6-65ee-41ec-a0e8-2c32aeb920ff",
   "metadata": {
    "tags": []
   },
   "outputs": [],
   "source": [
    "import ipywidgets as widgets\n",
    "from IPython.display import display\n",
    "import pandas as pd\n",
    "import numpy as np\n",
    "from ipywidgets import Layout, Button, Box, FloatText, Textarea, Dropdown, Label, IntSlider\n",
    "import tkinter as tk\n",
    "from tkinter.filedialog import askopenfilename\n",
    "import matplotlib.pyplot as plt\n",
    "import random"
   ]
  },
  {
   "cell_type": "markdown",
   "id": "67c9ab86-54b5-4fce-9819-ec7ed7c084b7",
   "metadata": {},
   "source": [
    "# Micro Pile Design"
   ]
  },
  {
   "cell_type": "code",
   "execution_count": 3,
   "id": "1e9065cf-c35f-4459-bb9f-d719043f5294",
   "metadata": {
    "tags": []
   },
   "outputs": [
    {
     "name": "stdout",
     "output_type": "stream",
     "text": [
      "Structural Values\n"
     ]
    },
    {
     "data": {
      "application/vnd.jupyter.widget-view+json": {
       "model_id": "c178542858a24917a0a561b4a04f31cb",
       "version_major": 2,
       "version_minor": 0
      },
      "text/plain": [
       "Box(children=(Box(children=(Label(value='Grout unconfined compressive strength, fc (ksi)'), FloatText(value=0.…"
      ]
     },
     "execution_count": 3,
     "metadata": {},
     "output_type": "execute_result"
    }
   ],
   "source": [
    "# create user form to input values\n",
    "form_item_layout = Layout(\n",
    "    display='flex',\n",
    "    flex_flow='row',\n",
    "    justify_content='space-between'\n",
    ")\n",
    "\n",
    "form_items = [\n",
    "    Box([Label(value='Grout unconfined compressive strength, fc (ksi)'),\n",
    "        FloatText()], layout=form_item_layout),\n",
    "    Box([Label(value='Outside diameter of casing (inches)'),\n",
    "        FloatText()], layout=form_item_layout),\n",
    "    Box([Label(value='Thickness of casing (inches)'),\n",
    "        FloatText()], layout=form_item_layout),\n",
    "    Box([Label(value='Casing yield strength (ksi)'),\n",
    "        FloatText()], layout=form_item_layout),\n",
    "    Box([Label(value='Rebar yield strength (ksi)'),\n",
    "        FloatText()], layout=form_item_layout),\n",
    "    Box([Label(value='Rebar Type'),\n",
    "        Dropdown(options=['#10','#11', '#14'])], layout=form_item_layout),\n",
    "]\n",
    "\n",
    "print(\"Structural Values\")\n",
    "form = Box(form_items, layout=Layout(\n",
    "    display='flex',\n",
    "    flex_flow='column',\n",
    "    border='solid 2px',\n",
    "    align_items='stretch',\n",
    "    width='50%'\n",
    "))\n",
    "form"
   ]
  },
  {
   "cell_type": "code",
   "execution_count": null,
   "id": "41d7c4f8-a7d1-477b-a635-b21daf66ccda",
   "metadata": {
    "tags": []
   },
   "outputs": [],
   "source": [
    "#assign variables to the values put into the form\n",
    "\n",
    "fc_grout_w = form.children[0].children[1]\n",
    "fc_grout = fc_grout_w.value\n",
    "\n",
    "OD_casing_w = form.children[1].children[1]\n",
    "OD_casing = OD_casing_w.value\n",
    "\n",
    "casing_thickness_w =form.children[2].children[1]\n",
    "casing_thickness = casing_thickness_w.value\n",
    "\n",
    "casing_yield_w = form.children[3].children[1]\n",
    "casing_yield = casing_yield_w.value\n",
    "\n",
    "rebar_yield_w = form.children[4].children[1]\n",
    "rebar_yield = rebar_yield_w.value\n",
    "\n",
    "rebar_type_w = form.children[5].children[1]\n",
    "rebar_type = rebar_type_w.value\n",
    "\n",
    "#make sure everything is where it should be \n",
    "#print(fc_grout,OD_casing,casing_thickness,casing_yield,rebar_yield,rebar_type)"
   ]
  },
  {
   "cell_type": "code",
   "execution_count": null,
   "id": "bace317d-1365-41bf-8c63-644b8d109c63",
   "metadata": {
    "tags": []
   },
   "outputs": [],
   "source": [
    "# determine additional structural values based on the input variables \n",
    "# rebar_dict is laid out as rebar number (key): weight(lb/ft), bar diameter(in), cross sectional area(in2)\n",
    "rebar_dict = {\"#10\":[4.303, 1.27, 1.27],\n",
    "              \"#11\":[5.313,1.41,1.56],\n",
    "              \"#14\":[7.65,1.693,2.25]\n",
    "             }\n",
    "rebar_list = rebar_dict[rebar_type]\n",
    "A_rebar = rebar_list[2]\n",
    "\n",
    "A_grout = ((OD_casing - casing_thickness*2)**2*3.14)/4 - A_rebar\n",
    "\n",
    "A_casing = OD_casing**2*3.14/4 - ((OD_casing - casing_thickness*2)**2*3.14)/4\n",
    "\n",
    "steel_mod = 29000\n",
    "concrete_mod = (57000*(fc_grout*1000)**(1/2))/1000"
   ]
  },
  {
   "cell_type": "markdown",
   "id": "aa50b555-dbc0-412e-81a9-9f2ef316acc0",
   "metadata": {},
   "source": [
    "## Maximum Allowable Compression (Cased Length)"
   ]
  },
  {
   "cell_type": "code",
   "execution_count": 5,
   "id": "ec3a66e9-6a2e-486c-befb-29f7325921fa",
   "metadata": {
    "tags": []
   },
   "outputs": [
    {
     "name": "stdout",
     "output_type": "stream",
     "text": [
      "Allowable compression load: 800.0 kips (per equation 5-1 FHWA NHI-05-039)\n"
     ]
    }
   ],
   "source": [
    "#calculate allowable compression load\n",
    "\n",
    "#check strain compatibility \n",
    "'''using maximum concrete strain of 0.003 to determine the maximum stress per FHWA NHI-05-039\n",
    "'''\n",
    "max_strain = 0.003\n",
    "straincomp_casing = (steel_mod * max_strain)\n",
    "straincomp_rebar = (steel_mod * max_strain)\n",
    "straincomp_grout = (concrete_mod * max_strain)\n",
    "\n",
    "straincomp_steel = min(straincomp_casing, straincomp_rebar, casing_yield, rebar_yield)\n",
    "\n",
    "'''section 5.6 of FHWA NHI-05-039 specifies to use minimum yield stress in allowable compression \n",
    "based on 0.003 maximum strain on concrete vs structural yield of all steel components\n",
    "'''\n",
    "Pc_allowable = .4*fc_grout * A_grout + .47*straincomp_steel*(A_rebar + A_casing)\n",
    "\n",
    "\n",
    "print(\"Allowable compression load:\", round(Pc_allowable,0), \"kips (per equation 5-1 FHWA NHI-05-039)\")"
   ]
  },
  {
   "cell_type": "markdown",
   "id": "052c464e-ae3d-4d2b-9711-5f9a4bc3fe80",
   "metadata": {
    "tags": []
   },
   "source": [
    "## Maximum Allowable Tension (Cased Length)"
   ]
  },
  {
   "cell_type": "code",
   "execution_count": 6,
   "id": "5641d717-e8aa-4721-8a76-6f45e910cce0",
   "metadata": {
    "tags": []
   },
   "outputs": [
    {
     "name": "stdout",
     "output_type": "stream",
     "text": [
      "Allowable tension load: 51.0 kips (per equation 5-2 FHWA NHI-05-039)\n"
     ]
    }
   ],
   "source": [
    "#calculate allowable tension \n",
    "'''According to FHWA NHI-05-039 a corrosion allowance can be made by \n",
    "removing casing tensile strength from the allowable loading equation\n",
    "'''\n",
    "\n",
    "Pt_allowable = .55*straincomp_steel*(A_rebar)\n",
    "\n",
    "print(\"Allowable tension load:\", round(Pt_allowable,0), \"kips (per equation 5-2 FHWA NHI-05-039)\")"
   ]
  },
  {
   "cell_type": "markdown",
   "id": "8896a248-137a-45c7-9940-cbcd693ddc7d",
   "metadata": {},
   "source": [
    "## Maximum Allowable Compression (Uncased Length)"
   ]
  },
  {
   "cell_type": "code",
   "execution_count": 7,
   "id": "108ff040-0910-4808-8ea5-1901b19247bd",
   "metadata": {
    "tags": []
   },
   "outputs": [
    {
     "name": "stdout",
     "output_type": "stream",
     "text": [
      "Uncased Maximum Allowable Compression:  269.0 kips (per equation 5-7 FHWA NHI-05-039)\n"
     ]
    }
   ],
   "source": [
    "Pc_un_allowable = .4 * fc_grout * A_grout + .47 * rebar_yield * A_rebar\n",
    "\n",
    "print(\"Uncased Maximum Allowable Compression: \", round(Pc_un_allowable,0), 'kips (per equation 5-7 FHWA NHI-05-039)')"
   ]
  },
  {
   "cell_type": "markdown",
   "id": "82074808-dcc6-421a-a4ed-9105ca7bbd6a",
   "metadata": {},
   "source": [
    "## Maximum Allowable Tension (Uncased Length)"
   ]
  },
  {
   "cell_type": "code",
   "execution_count": 8,
   "id": "7012896c-3088-4849-a4fb-ce527b1aa010",
   "metadata": {
    "tags": []
   },
   "outputs": [
    {
     "name": "stdout",
     "output_type": "stream",
     "text": [
      "Uncased Maximum Allowable Tension:  269.0 kips (per equation 5-8 FHWA NHI-05-039)\n"
     ]
    }
   ],
   "source": [
    "Pt_un_allowable = .55 * rebar_yield * A_rebar\n",
    "\n",
    "print(\"Uncased Maximum Allowable Tension: \", round(Pc_un_allowable,0), 'kips (per equation 5-8 FHWA NHI-05-039)')"
   ]
  },
  {
   "cell_type": "markdown",
   "id": "f85101c6-cb88-47f6-ab55-b0695b984ecf",
   "metadata": {
    "tags": []
   },
   "source": [
    "## Find your Soil Layering CSV"
   ]
  },
  {
   "cell_type": "code",
   "execution_count": 14,
   "id": "a4ff8588-839b-45e7-85e9-bc6a04c13e3f",
   "metadata": {
    "tags": []
   },
   "outputs": [
    {
     "data": {
      "application/vnd.jupyter.widget-view+json": {
       "model_id": "7b8b581780b6414ab45b32f6fb7f6437",
       "version_major": 2,
       "version_minor": 0
      },
      "text/plain": [
       "Button(description='Select and Read CSV', style=ButtonStyle())"
      ]
     },
     "metadata": {},
     "output_type": "display_data"
    }
   ],
   "source": [
    "def open_and_read_csv(button):\n",
    "    # Create a Tkinter root window (if not already created)\n",
    "    root = tk()\n",
    "    root.withdraw()  # Hide the root window\n",
    "\n",
    "    # Use the askopenfilename function to select a file\n",
    "    soil_file = askopenfilename(title=\"Select a CSV file\", filetypes=[(\"CSV Files\", \"*.csv\")])\n",
    "\n",
    "    df = pd.read_csv(soil_file)\n",
    "\n",
    "    root.destroy()\n",
    "\n",
    "    return df  # Return the DataFrame\n",
    "\n",
    "# Create a button widget\n",
    "button = widgets.Button(description=\"Select and Read CSV\")\n",
    "\n",
    "# Use a closure to capture the returned DataFrame\n",
    "def on_button_click(b):\n",
    "    global soil_profile_df\n",
    "    soil_profile_df = open_and_read_csv(b)\n",
    "\n",
    "button.on_click(on_button_click)\n",
    "\n",
    "# Display the button\n",
    "display(button)"
   ]
  },
  {
   "cell_type": "code",
   "execution_count": 141,
   "id": "835b3d51-61f9-4dd5-8b62-0a71d50d72f3",
   "metadata": {
    "tags": []
   },
   "outputs": [
    {
     "name": "stdout",
     "output_type": "stream",
     "text": [
      " Layer_no  Ele_from  Ele_to  USCS  UW_sat\n",
      "        1       710   702.0 SC-SM     115\n",
      "        2       702   695.0 SC-SM     110\n",
      "        3       695   685.0 SW-SM     120\n",
      "        4       685   675.0 CL-CH     115\n",
      "        5       675   670.0 CL-CH     120\n",
      "        6       670   667.0  W LS     130\n",
      "        7       667     NaN    LS     150\n"
     ]
    }
   ],
   "source": [
    "#print soil layering\n",
    "print(soil_profile_df.to_string(index=False))"
   ]
  },
  {
   "cell_type": "markdown",
   "id": "f41fa40d-3346-4a65-880b-18313e3e1052",
   "metadata": {
    "tags": []
   },
   "source": [
    "## Define Grout Bond Strength per table 5.3 in FHWA NHI-05-039"
   ]
  },
  {
   "cell_type": "code",
   "execution_count": 107,
   "id": "426c92d2-5cf2-465e-b1c6-7a813c175f11",
   "metadata": {
    "jupyter": {
     "source_hidden": true
    },
    "tags": []
   },
   "outputs": [
    {
     "name": "stdout",
     "output_type": "stream",
     "text": [
      "Input Ultimate Grout to Ground Bond Value for Each Layer\n"
     ]
    },
    {
     "data": {
      "application/vnd.jupyter.widget-view+json": {
       "model_id": "e96345d1a9c94a49b0d254adb1e3c7d0",
       "version_major": 2,
       "version_minor": 0
      },
      "text/plain": [
       "Box(children=(Box(children=(Label(value='Layer 1'), FloatText(value=0.0)), layout=Layout(display='flex', flex_…"
      ]
     },
     "execution_count": 107,
     "metadata": {},
     "output_type": "execute_result"
    }
   ],
   "source": [
    "form_item_layout2 = Layout(\n",
    "    display='flex',\n",
    "    flex_flow='row',\n",
    "    justify_content='space-between'\n",
    ")\n",
    "\n",
    "form_items2 = []\n",
    "\n",
    "for i in range(soil_profile_df.shape[0]):\n",
    "    form_items2.append(Box([Label(value='Layer ' + str(soil_profile_df.iloc[i,0])),\n",
    "        FloatText()], layout=form_item_layout))\n",
    "\n",
    "form2 = Box(form_items2, layout=Layout(\n",
    "    display='flex',\n",
    "    flex_flow='column',\n",
    "    border='solid 2px',\n",
    "    align_items='stretch',\n",
    "    width='50%'\n",
    "))\n",
    "print(\"Input Ultimate Grout to Ground Bond Value for Each Layer\")\n",
    "form2"
   ]
  },
  {
   "cell_type": "code",
   "execution_count": 142,
   "id": "f2aac715-d5c7-45f5-acd3-b5d236970f3d",
   "metadata": {
    "tags": []
   },
   "outputs": [
    {
     "name": "stdout",
     "output_type": "stream",
     "text": [
      " Layer_no  Ele_from  Ele_to  USCS  UW_sat  Ult Grout Bond  Allowable Grout Bond\n",
      "        1       710   702.0 SC-SM     115             7.0                   3.5\n",
      "        2       702   695.0 SC-SM     110            15.0                   7.5\n",
      "        3       695   685.0 SW-SM     120            22.0                  11.0\n",
      "        4       685   675.0 CL-CH     115            11.0                   5.5\n",
      "        5       675   670.0 CL-CH     120            11.0                   5.5\n",
      "        6       670   667.0  W LS     130            75.0                  37.5\n",
      "        7       667     NaN    LS     150            75.0                  37.5\n"
     ]
    }
   ],
   "source": [
    "ult_bond_list = []\n",
    "micro_soil_profile_df = soil_profile_df\n",
    "\n",
    "for i in range(soil_profile_df.shape[0]):\n",
    "    temp_var = form2.children[i].children[1]\n",
    "    temp_var2 = temp_var.value\n",
    "    ult_bond_list.append(temp_var2)\n",
    "    \n",
    "micro_soil_profile_df['Ult Grout Bond'] = ult_bond_list\n",
    "\n",
    "def FoS(x):\n",
    "    return x/2\n",
    "\n",
    "micro_soil_profile_df['Allowable Grout Bond'] = micro_soil_profile_df['Ult Grout Bond'].apply(FoS)\n",
    "\n",
    "print(micro_soil_profile_df.to_string(index=False))"
   ]
  },
  {
   "cell_type": "markdown",
   "id": "9a3c5651-0a3d-49f8-9685-1383f309f617",
   "metadata": {},
   "source": [
    "## Begin Design"
   ]
  },
  {
   "cell_type": "code",
   "execution_count": 161,
   "id": "c81905fc-50a7-43a8-843a-1afbfdfe7254",
   "metadata": {
    "tags": []
   },
   "outputs": [
    {
     "data": {
      "application/vnd.jupyter.widget-view+json": {
       "model_id": "f57db94be2d442baa07bca388fd3e87f",
       "version_major": 2,
       "version_minor": 0
      },
      "text/plain": [
       "FloatRangeSlider(value=(667.0, 710.0), description='Range Slider', max=710.0, min=667.0, orientation='vertical…"
      ]
     },
     "metadata": {},
     "output_type": "display_data"
    },
    {
     "data": {
      "application/vnd.jupyter.widget-view+json": {
       "model_id": "700862c21d724ea3bd8a18797db364a6",
       "version_major": 2,
       "version_minor": 0
      },
      "text/plain": [
       "FloatText(value=667.0, description='Lower Value')"
      ]
     },
     "metadata": {},
     "output_type": "display_data"
    },
    {
     "data": {
      "application/vnd.jupyter.widget-view+json": {
       "model_id": "f4bd8ea778e041ba8401a33ef9e28075",
       "version_major": 2,
       "version_minor": 0
      },
      "text/plain": [
       "FloatText(value=710.0, description='Upper Value')"
      ]
     },
     "metadata": {},
     "output_type": "display_data"
    },
    {
     "data": {
      "image/png": "[encoded data removed]",
      "text/plain": [
       "<Figure size 800x400 with 1 Axes>"
      ]
     },
     "metadata": {},
     "output_type": "display_data"
    }
   ],
   "source": [
    "# Create the plot with horizontal lines filled between layers\n",
    "fig, ax = plt.subplots(figsize=(8, 4))\n",
    "\n",
    "for _, row in micro_soil_profile_df.iterrows():\n",
    "    ax.fill_between([0, 1], row['Ele_from'], row['Ele_from']-50, label=row['USCS'])\n",
    "    ax.plot([0, 1], [row['Ele_from'], row['Ele_from']], color='black', linewidth=1)\n",
    "\n",
    "#micropile try\n",
    "ax.plot([row['Ele_from'], row['Ele_from']], color='black', linewidth=1)\n",
    "    \n",
    "ax.set_xlim(0, 1)\n",
    "#ax.set_ylim(min(micro_soil_profile_df.iloc[1]), max(micro_soil_profile_df.iloc[1]))\n",
    "ax.set_xlabel('X-axis')\n",
    "ax.set_ylabel('Y-axis')\n",
    "ax.set_title('Plot with Filled Horizontal Layers')\n",
    "ax.grid(True)\n",
    "ax.legend()\n",
    "\n",
    "##################################################################Vertical Slider Code##################################\n",
    "vertical_range_slider = widgets.FloatRangeSlider(\n",
    "    value=[micro_soil_profile_df['Ele_from'].min(), micro_soil_profile_df['Ele_from'].max()],  # Initial range\n",
    "    min=micro_soil_profile_df['Ele_from'].min(),               # Minimum value\n",
    "    max=micro_soil_profile_df['Ele_from'].max(),              # Maximum value\n",
    "    step=0.5,           # Step size\n",
    "    orientation='vertical',  # Set orientation to 'vertical'\n",
    "    description='Range Slider'\n",
    ")\n",
    "\n",
    "# Create two separate variables to store the slider values\n",
    "lower_value = widgets.FloatText(value=vertical_range_slider.value[0], description='Lower Value')\n",
    "upper_value = widgets.FloatText(value=vertical_range_slider.value[1], description='Upper Value')\n",
    "\n",
    "# Define a function to update the variables when the slider changes\n",
    "def update_slider_values(change):\n",
    "    lower_value.value = change.new[0]\n",
    "    upper_value.value = change.new[1]\n",
    "\n",
    "# Link the range slider to the variables\n",
    "vertical_range_slider.observe(update_slider_values, names='value')\n",
    "\n",
    "# Display the widgets\n",
    "display(vertical_range_slider, lower_value, upper_value)\n",
    "##################################################################Vertical Slider Code##################################\n",
    "\n",
    "def micropile(lower, upper):\n",
    "    \n",
    "\n",
    "\n",
    "plt.show()"
   ]
  },
  {
   "cell_type": "code",
   "execution_count": null,
   "id": "6bcc05f7-cd3d-4a4c-a8b1-e3b0e721707b",
   "metadata": {
    "tags": []
   },
   "outputs": [],
   "source": []
  },
  {
   "cell_type": "code",
   "execution_count": null,
   "id": "cef4254a-c9ce-4c7c-980e-351bb44caaba",
   "metadata": {
    "tags": []
   },
   "outputs": [],
   "source": []
  },
  {
   "cell_type": "code",
   "execution_count": null,
   "id": "a1cd7c53-67aa-488c-b44e-b56a962014a5",
   "metadata": {},
   "outputs": [],
   "source": []
  }
 ],
 "metadata": {
  "kernelspec": {
   "display_name": "Python 3 (ipykernel)",
   "language": "python",
   "name": "python3"
  },
  "language_info": {
   "codemirror_mode": {
    "name": "ipython",
    "version": 3
   },
   "file_extension": ".py",
   "mimetype": "text/x-python",
   "name": "python",
   "nbconvert_exporter": "python",
   "pygments_lexer": "ipython3",
   "version": "3.11.4"
  }
 },
 "nbformat": 4,
 "nbformat_minor": 5
}
